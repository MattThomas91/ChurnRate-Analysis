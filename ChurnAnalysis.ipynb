{
 "cells": [
  {
   "cell_type": "markdown",
   "metadata": {},
   "source": [
    "# Sparkify Project Workspace\n",
    "This workspace contains a tiny subset (128MB) of the full dataset available (12GB). Feel free to use this workspace to build your project, or to explore a smaller subset with Spark before deploying your cluster on the cloud. Instructions for setting up your Spark cluster is included in the last lesson of the Extracurricular Spark Course content.\n",
    "\n",
    "You can follow the steps below to guide your data analysis and model building portion of this project."
   ]
  },
  {
   "cell_type": "code",
   "execution_count": 1,
   "metadata": {},
   "outputs": [],
   "source": [
    "# import libraries\n",
    "from pyspark.sql import SparkSession\n",
    "from pyspark.sql.functions import udf\n",
    "from pyspark.sql.types import StringType\n",
    "from pyspark.sql.types import IntegerType\n",
    "from pyspark.sql.functions import desc\n",
    "from pyspark.sql.functions import asc\n",
    "from pyspark.sql import Window\n",
    "from pyspark.sql.functions import isnan, count, when, col, desc, udf, col, sort_array, asc, avg, sum, max\n",
    "from pyspark.ml.feature import VectorAssembler, Normalizer, StandardScaler\n",
    "from pyspark.ml.tuning import ParamGridBuilder, CrossValidator\n",
    "\n",
    "from pyspark.ml.regression import LinearRegression\n",
    "from pyspark.ml.classification import RandomForestClassifier, LinearSVC, LogisticRegression\n",
    "from pyspark.ml.evaluation import MulticlassClassificationEvaluator\n",
    "\n",
    "import numpy as np\n",
    "import pandas as pd\n",
    "%matplotlib inline\n",
    "import matplotlib.pyplot as plt\n"
   ]
  },
  {
   "cell_type": "code",
   "execution_count": 2,
   "metadata": {},
   "outputs": [],
   "source": [
    "# Create a Spark session\n",
    "spark = SparkSession \\\n",
    "    .builder \\\n",
    "    .appName(\"Spark Project\") \\\n",
    "    .getOrCreate()"
   ]
  },
  {
   "cell_type": "markdown",
   "metadata": {},
   "source": [
    "# Load and Clean Dataset\n",
    "In this workspace, the mini-dataset file is `mini_sparkify_event_data.json`. Load and clean the dataset, checking for invalid or missing data - for example, records without userids or sessionids. "
   ]
  },
  {
   "cell_type": "code",
   "execution_count": 3,
   "metadata": {},
   "outputs": [],
   "source": [
    "# Set path and load dataset\n",
    "path = \"mini_sparkify_event_data.json\"\n",
    "user_log = spark.read.json(path)"
   ]
  },
  {
   "cell_type": "code",
   "execution_count": 4,
   "metadata": {},
   "outputs": [],
   "source": [
    "# Check first few entries\n",
    "#user_log.take(3)"
   ]
  },
  {
   "cell_type": "code",
   "execution_count": 5,
   "metadata": {},
   "outputs": [],
   "source": [
    "# Drop entries missing values for userID or sessionId\n",
    "user_log_valid = user_log.dropna(how = \"any\", subset = [\"userId\", \"sessionId\"])\n",
    "\n",
    "user_log_valid = user_log_valid.filter(user_log_valid[\"userId\"] != \"\")\n"
   ]
  },
  {
   "cell_type": "code",
   "execution_count": 6,
   "metadata": {},
   "outputs": [
    {
     "data": {
      "text/plain": [
       "278154"
      ]
     },
     "execution_count": 6,
     "metadata": {},
     "output_type": "execute_result"
    }
   ],
   "source": [
    "# Find the total number of log entries\n",
    "user_log_valid.count()"
   ]
  },
  {
   "cell_type": "code",
   "execution_count": 7,
   "metadata": {},
   "outputs": [
    {
     "name": "stdout",
     "output_type": "stream",
     "text": [
      "root\n",
      " |-- artist: string (nullable = true)\n",
      " |-- auth: string (nullable = true)\n",
      " |-- firstName: string (nullable = true)\n",
      " |-- gender: string (nullable = true)\n",
      " |-- itemInSession: long (nullable = true)\n",
      " |-- lastName: string (nullable = true)\n",
      " |-- length: double (nullable = true)\n",
      " |-- level: string (nullable = true)\n",
      " |-- location: string (nullable = true)\n",
      " |-- method: string (nullable = true)\n",
      " |-- page: string (nullable = true)\n",
      " |-- registration: long (nullable = true)\n",
      " |-- sessionId: long (nullable = true)\n",
      " |-- song: string (nullable = true)\n",
      " |-- status: long (nullable = true)\n",
      " |-- ts: long (nullable = true)\n",
      " |-- userAgent: string (nullable = true)\n",
      " |-- userId: string (nullable = true)\n",
      "\n"
     ]
    }
   ],
   "source": [
    "# What are the existing data fields\n",
    "# Check Schema\n",
    "user_log.printSchema()"
   ]
  },
  {
   "cell_type": "code",
   "execution_count": 8,
   "metadata": {},
   "outputs": [
    {
     "name": "stdout",
     "output_type": "stream",
     "text": [
      "+--------------------+\n",
      "|                page|\n",
      "+--------------------+\n",
      "|              Cancel|\n",
      "|    Submit Downgrade|\n",
      "|         Thumbs Down|\n",
      "|                Home|\n",
      "|           Downgrade|\n",
      "|         Roll Advert|\n",
      "|              Logout|\n",
      "|       Save Settings|\n",
      "|Cancellation Conf...|\n",
      "|               About|\n",
      "|            Settings|\n",
      "|     Add to Playlist|\n",
      "|          Add Friend|\n",
      "|            NextSong|\n",
      "|           Thumbs Up|\n",
      "|                Help|\n",
      "|             Upgrade|\n",
      "|               Error|\n",
      "|      Submit Upgrade|\n",
      "+--------------------+\n",
      "\n"
     ]
    }
   ],
   "source": [
    "# Show all possible results for page and check for blanks\n",
    "user_log_valid.select(\"page\").dropDuplicates().show()"
   ]
  },
  {
   "cell_type": "markdown",
   "metadata": {},
   "source": [
    "# Exploratory Data Analysis\n",
    "When you're working with the full dataset, perform EDA by loading a small subset of the data and doing basic manipulations within Spark. In this workspace, you are already provided a small subset of data you can explore.\n",
    "\n",
    "### Define Churn\n",
    "\n",
    "Once you've done some preliminary analysis, create a column `Churn` to use as the label for your model. I suggest using the `Cancellation Confirmation` events to define your churn, which happen for both paid and free users. As a bonus task, you can also look into the `Downgrade` events.\n",
    "\n",
    "### Explore Data\n",
    "Once you've defined churn, perform some exploratory data analysis to observe the behavior for users who stayed vs users who churned. You can start by exploring aggregates on these two groups of users, observing how much of a specific action they experienced per a certain time unit or number of songs played."
   ]
  },
  {
   "cell_type": "code",
   "execution_count": 9,
   "metadata": {},
   "outputs": [
    {
     "data": {
      "text/plain": [
       "[Row(artist='Martha Tilston', auth='Logged In', firstName='Colin', gender='M', itemInSession=50, lastName='Freeman', length=277.89016, level='paid', location='Bakersfield, CA', method='PUT', page='NextSong', registration=1538173362000, sessionId=29, song='Rockpools', status=200, ts=1538352117000, userAgent='Mozilla/5.0 (Windows NT 6.1; WOW64; rv:31.0) Gecko/20100101 Firefox/31.0', userId='30'),\n",
       " Row(artist='Five Iron Frenzy', auth='Logged In', firstName='Micah', gender='M', itemInSession=79, lastName='Long', length=236.09424, level='free', location='Boston-Cambridge-Newton, MA-NH', method='PUT', page='NextSong', registration=1538331630000, sessionId=8, song='Canada', status=200, ts=1538352180000, userAgent='\"Mozilla/5.0 (Windows NT 6.1; WOW64) AppleWebKit/537.36 (KHTML, like Gecko) Chrome/37.0.2062.103 Safari/537.36\"', userId='9'),\n",
       " Row(artist='Adam Lambert', auth='Logged In', firstName='Colin', gender='M', itemInSession=51, lastName='Freeman', length=282.8273, level='paid', location='Bakersfield, CA', method='PUT', page='NextSong', registration=1538173362000, sessionId=29, song='Time For Miracles', status=200, ts=1538352394000, userAgent='Mozilla/5.0 (Windows NT 6.1; WOW64; rv:31.0) Gecko/20100101 Firefox/31.0', userId='30')]"
      ]
     },
     "execution_count": 9,
     "metadata": {},
     "output_type": "execute_result"
    }
   ],
   "source": [
    "#First look at what data looks like\n",
    "# Check first few entries\n",
    "user_log_valid.take(3)"
   ]
  },
  {
   "cell_type": "code",
   "execution_count": 10,
   "metadata": {},
   "outputs": [
    {
     "data": {
      "text/plain": [
       "278154"
      ]
     },
     "execution_count": 10,
     "metadata": {},
     "output_type": "execute_result"
    }
   ],
   "source": [
    "# Total number of entries\n",
    "user_log_valid.count()"
   ]
  },
  {
   "cell_type": "code",
   "execution_count": 11,
   "metadata": {},
   "outputs": [
    {
     "name": "stdout",
     "output_type": "stream",
     "text": [
      "root\n",
      " |-- artist: string (nullable = true)\n",
      " |-- auth: string (nullable = true)\n",
      " |-- firstName: string (nullable = true)\n",
      " |-- gender: string (nullable = true)\n",
      " |-- itemInSession: long (nullable = true)\n",
      " |-- lastName: string (nullable = true)\n",
      " |-- length: double (nullable = true)\n",
      " |-- level: string (nullable = true)\n",
      " |-- location: string (nullable = true)\n",
      " |-- method: string (nullable = true)\n",
      " |-- page: string (nullable = true)\n",
      " |-- registration: long (nullable = true)\n",
      " |-- sessionId: long (nullable = true)\n",
      " |-- song: string (nullable = true)\n",
      " |-- status: long (nullable = true)\n",
      " |-- ts: long (nullable = true)\n",
      " |-- userAgent: string (nullable = true)\n",
      " |-- userId: string (nullable = true)\n",
      "\n"
     ]
    }
   ],
   "source": [
    "# What are the existing data fields\n",
    "# Check Schema\n",
    "user_log_valid.printSchema()"
   ]
  },
  {
   "cell_type": "code",
   "execution_count": 12,
   "metadata": {},
   "outputs": [
    {
     "name": "stdout",
     "output_type": "stream",
     "text": [
      "+-------------+---------------+\n",
      "|           ts|           page|\n",
      "+-------------+---------------+\n",
      "|1538352117000|       NextSong|\n",
      "|1538352394000|       NextSong|\n",
      "|1538352676000|       NextSong|\n",
      "|1538352899000|       NextSong|\n",
      "|1538352905000|Add to Playlist|\n",
      "|1538353084000|       NextSong|\n",
      "|1538353218000|       NextSong|\n",
      "|1538353441000|       NextSong|\n",
      "|1538353687000|       NextSong|\n",
      "|1538353909000|       NextSong|\n",
      "+-------------+---------------+\n",
      "only showing top 10 rows\n",
      "\n"
     ]
    }
   ],
   "source": [
    "# Look at example series of entries for one user\n",
    "user_log_valid.select(\"ts\",\"page\").where(user_log_valid.userId == 30).show(10)"
   ]
  },
  {
   "cell_type": "code",
   "execution_count": 13,
   "metadata": {},
   "outputs": [
    {
     "name": "stdout",
     "output_type": "stream",
     "text": [
      "+--------------------+\n",
      "|                page|\n",
      "+--------------------+\n",
      "|              Cancel|\n",
      "|    Submit Downgrade|\n",
      "|         Thumbs Down|\n",
      "|                Home|\n",
      "|           Downgrade|\n",
      "|         Roll Advert|\n",
      "|              Logout|\n",
      "|       Save Settings|\n",
      "|Cancellation Conf...|\n",
      "|               About|\n",
      "|            Settings|\n",
      "|     Add to Playlist|\n",
      "|          Add Friend|\n",
      "|            NextSong|\n",
      "|           Thumbs Up|\n",
      "|                Help|\n",
      "|             Upgrade|\n",
      "|               Error|\n",
      "|      Submit Upgrade|\n",
      "+--------------------+\n",
      "\n"
     ]
    }
   ],
   "source": [
    "# Look at page possibilities\n",
    "user_log_valid.select(\"page\").dropDuplicates().show()"
   ]
  },
  {
   "cell_type": "code",
   "execution_count": 14,
   "metadata": {},
   "outputs": [
    {
     "name": "stdout",
     "output_type": "stream",
     "text": [
      "+-----+\n",
      "|level|\n",
      "+-----+\n",
      "| free|\n",
      "| paid|\n",
      "+-----+\n",
      "\n"
     ]
    }
   ],
   "source": [
    "# Look at song info\n",
    "# Show details of individual fields\n",
    "user_log_valid.select(\"level\").dropDuplicates().show()"
   ]
  },
  {
   "cell_type": "code",
   "execution_count": 15,
   "metadata": {},
   "outputs": [],
   "source": [
    "# Make function for flagging downgrade/delete account events\n",
    "flag_downgrade_event = udf(lambda x: 1 if (x == \"Submit Downgrade\" or x == \"Cancel\") else 0, IntegerType())"
   ]
  },
  {
   "cell_type": "code",
   "execution_count": 16,
   "metadata": {},
   "outputs": [],
   "source": [
    "# Add downgrade feature to user log\n",
    "user_log_valid = user_log_valid.withColumn(\"downgraded\", flag_downgrade_event(\"page\"))"
   ]
  },
  {
   "cell_type": "code",
   "execution_count": 17,
   "metadata": {},
   "outputs": [],
   "source": [
    "# Partition the data set by user\n",
    "windowval = Window.partitionBy(\"userId\").orderBy(desc(\"ts\")).rangeBetween(Window.unboundedPreceding, 0)\n",
    "\n",
    "# Add Phase feature to user log\n",
    "user_log_valid = user_log_valid.withColumn(\"phase\", sum(\"downgraded\").over(windowval))\n"
   ]
  },
  {
   "cell_type": "code",
   "execution_count": 18,
   "metadata": {},
   "outputs": [
    {
     "data": {
      "text/plain": [
       "[Row(userId='30', sessionId=29, page='Add to Playlist', level='paid', phase=1, downgraded=0),\n",
       " Row(userId='30', sessionId=29, page='NextSong', level='paid', phase=1, downgraded=0),\n",
       " Row(userId='30', sessionId=29, page='NextSong', level='paid', phase=1, downgraded=0),\n",
       " Row(userId='30', sessionId=29, page='NextSong', level='paid', phase=1, downgraded=0),\n",
       " Row(userId='30', sessionId=29, page='NextSong', level='paid', phase=1, downgraded=0),\n",
       " Row(userId='30', sessionId=29, page='Roll Advert', level='paid', phase=1, downgraded=0),\n",
       " Row(userId='30', sessionId=29, page='NextSong', level='paid', phase=1, downgraded=0),\n",
       " Row(userId='30', sessionId=29, page='NextSong', level='paid', phase=1, downgraded=0),\n",
       " Row(userId='30', sessionId=29, page='NextSong', level='paid', phase=1, downgraded=0),\n",
       " Row(userId='30', sessionId=29, page='NextSong', level='paid', phase=1, downgraded=0),\n",
       " Row(userId='30', sessionId=29, page='NextSong', level='paid', phase=1, downgraded=0),\n",
       " Row(userId='30', sessionId=29, page='NextSong', level='paid', phase=1, downgraded=0),\n",
       " Row(userId='30', sessionId=29, page='Thumbs Up', level='paid', phase=1, downgraded=0),\n",
       " Row(userId='30', sessionId=29, page='NextSong', level='paid', phase=1, downgraded=0),\n",
       " Row(userId='30', sessionId=29, page='Thumbs Up', level='paid', phase=1, downgraded=0),\n",
       " Row(userId='30', sessionId=29, page='NextSong', level='paid', phase=1, downgraded=0),\n",
       " Row(userId='30', sessionId=29, page='NextSong', level='paid', phase=1, downgraded=0),\n",
       " Row(userId='30', sessionId=29, page='NextSong', level='paid', phase=1, downgraded=0),\n",
       " Row(userId='30', sessionId=29, page='NextSong', level='paid', phase=1, downgraded=0),\n",
       " Row(userId='30', sessionId=29, page='NextSong', level='paid', phase=1, downgraded=0),\n",
       " Row(userId='30', sessionId=29, page='Thumbs Down', level='paid', phase=1, downgraded=0),\n",
       " Row(userId='30', sessionId=29, page='NextSong', level='paid', phase=1, downgraded=0),\n",
       " Row(userId='30', sessionId=29, page='NextSong', level='paid', phase=1, downgraded=0),\n",
       " Row(userId='30', sessionId=29, page='NextSong', level='paid', phase=1, downgraded=0),\n",
       " Row(userId='30', sessionId=29, page='NextSong', level='paid', phase=1, downgraded=0),\n",
       " Row(userId='30', sessionId=29, page='NextSong', level='paid', phase=1, downgraded=0),\n",
       " Row(userId='30', sessionId=29, page='NextSong', level='paid', phase=1, downgraded=0),\n",
       " Row(userId='30', sessionId=29, page='NextSong', level='paid', phase=1, downgraded=0),\n",
       " Row(userId='30', sessionId=29, page='NextSong', level='paid', phase=1, downgraded=0),\n",
       " Row(userId='30', sessionId=29, page='NextSong', level='paid', phase=1, downgraded=0),\n",
       " Row(userId='30', sessionId=29, page='NextSong', level='paid', phase=1, downgraded=0),\n",
       " Row(userId='30', sessionId=29, page='NextSong', level='paid', phase=1, downgraded=0),\n",
       " Row(userId='30', sessionId=29, page='NextSong', level='paid', phase=1, downgraded=0),\n",
       " Row(userId='30', sessionId=29, page='NextSong', level='paid', phase=1, downgraded=0),\n",
       " Row(userId='30', sessionId=29, page='NextSong', level='paid', phase=1, downgraded=0),\n",
       " Row(userId='30', sessionId=29, page='NextSong', level='paid', phase=1, downgraded=0),\n",
       " Row(userId='30', sessionId=29, page='NextSong', level='paid', phase=1, downgraded=0),\n",
       " Row(userId='30', sessionId=29, page='Add to Playlist', level='paid', phase=1, downgraded=0),\n",
       " Row(userId='30', sessionId=29, page='NextSong', level='paid', phase=1, downgraded=0),\n",
       " Row(userId='30', sessionId=29, page='NextSong', level='paid', phase=1, downgraded=0),\n",
       " Row(userId='30', sessionId=29, page='NextSong', level='paid', phase=1, downgraded=0),\n",
       " Row(userId='30', sessionId=29, page='NextSong', level='paid', phase=1, downgraded=0),\n",
       " Row(userId='30', sessionId=264, page='Add Friend', level='paid', phase=1, downgraded=0),\n",
       " Row(userId='30', sessionId=264, page='NextSong', level='paid', phase=1, downgraded=0),\n",
       " Row(userId='30', sessionId=532, page='NextSong', level='free', phase=0, downgraded=0),\n",
       " Row(userId='30', sessionId=532, page='NextSong', level='free', phase=0, downgraded=0),\n",
       " Row(userId='30', sessionId=532, page='NextSong', level='free', phase=0, downgraded=0),\n",
       " Row(userId='30', sessionId=532, page='NextSong', level='free', phase=0, downgraded=0),\n",
       " Row(userId='30', sessionId=532, page='Home', level='free', phase=0, downgraded=0),\n",
       " Row(userId='30', sessionId=532, page='NextSong', level='free', phase=0, downgraded=0),\n",
       " Row(userId='30', sessionId=532, page='NextSong', level='free', phase=0, downgraded=0),\n",
       " Row(userId='30', sessionId=532, page='NextSong', level='free', phase=0, downgraded=0),\n",
       " Row(userId='30', sessionId=532, page='Roll Advert', level='free', phase=0, downgraded=0),\n",
       " Row(userId='30', sessionId=532, page='NextSong', level='free', phase=0, downgraded=0),\n",
       " Row(userId='30', sessionId=532, page='Home', level='free', phase=0, downgraded=0),\n",
       " Row(userId='30', sessionId=532, page='Add Friend', level='free', phase=0, downgraded=0),\n",
       " Row(userId='30', sessionId=532, page='Add Friend', level='free', phase=0, downgraded=0),\n",
       " Row(userId='30', sessionId=532, page='NextSong', level='free', phase=0, downgraded=0),\n",
       " Row(userId='30', sessionId=532, page='NextSong', level='free', phase=0, downgraded=0),\n",
       " Row(userId='30', sessionId=532, page='NextSong', level='free', phase=0, downgraded=0),\n",
       " Row(userId='30', sessionId=532, page='NextSong', level='free', phase=0, downgraded=0),\n",
       " Row(userId='30', sessionId=532, page='Thumbs Up', level='free', phase=0, downgraded=0),\n",
       " Row(userId='30', sessionId=532, page='NextSong', level='free', phase=0, downgraded=0),\n",
       " Row(userId='30', sessionId=532, page='NextSong', level='free', phase=0, downgraded=0),\n",
       " Row(userId='30', sessionId=532, page='Home', level='free', phase=0, downgraded=0),\n",
       " Row(userId='30', sessionId=532, page='NextSong', level='free', phase=0, downgraded=0),\n",
       " Row(userId='30', sessionId=532, page='Add to Playlist', level='free', phase=0, downgraded=0),\n",
       " Row(userId='30', sessionId=532, page='NextSong', level='free', phase=0, downgraded=0),\n",
       " Row(userId='30', sessionId=532, page='NextSong', level='free', phase=0, downgraded=0),\n",
       " Row(userId='30', sessionId=532, page='NextSong', level='free', phase=0, downgraded=0),\n",
       " Row(userId='30', sessionId=532, page='Roll Advert', level='free', phase=0, downgraded=0),\n",
       " Row(userId='30', sessionId=532, page='NextSong', level='free', phase=0, downgraded=0),\n",
       " Row(userId='30', sessionId=532, page='NextSong', level='free', phase=0, downgraded=0),\n",
       " Row(userId='30', sessionId=532, page='NextSong', level='free', phase=0, downgraded=0),\n",
       " Row(userId='30', sessionId=532, page='Thumbs Up', level='free', phase=0, downgraded=0),\n",
       " Row(userId='30', sessionId=532, page='NextSong', level='free', phase=0, downgraded=0),\n",
       " Row(userId='30', sessionId=532, page='NextSong', level='free', phase=0, downgraded=0),\n",
       " Row(userId='30', sessionId=532, page='NextSong', level='free', phase=0, downgraded=0),\n",
       " Row(userId='30', sessionId=532, page='Thumbs Up', level='free', phase=0, downgraded=0),\n",
       " Row(userId='30', sessionId=532, page='NextSong', level='free', phase=0, downgraded=0),\n",
       " Row(userId='30', sessionId=532, page='NextSong', level='free', phase=0, downgraded=0),\n",
       " Row(userId='30', sessionId=532, page='NextSong', level='free', phase=0, downgraded=0),\n",
       " Row(userId='30', sessionId=532, page='NextSong', level='free', phase=0, downgraded=0),\n",
       " Row(userId='30', sessionId=532, page='NextSong', level='free', phase=0, downgraded=0),\n",
       " Row(userId='30', sessionId=532, page='NextSong', level='free', phase=0, downgraded=0),\n",
       " Row(userId='30', sessionId=532, page='Add to Playlist', level='free', phase=0, downgraded=0),\n",
       " Row(userId='30', sessionId=532, page='NextSong', level='free', phase=0, downgraded=0),\n",
       " Row(userId='30', sessionId=532, page='NextSong', level='free', phase=0, downgraded=0),\n",
       " Row(userId='30', sessionId=532, page='Upgrade', level='free', phase=0, downgraded=0),\n",
       " Row(userId='30', sessionId=532, page='NextSong', level='free', phase=0, downgraded=0),\n",
       " Row(userId='30', sessionId=532, page='Upgrade', level='free', phase=0, downgraded=0),\n",
       " Row(userId='30', sessionId=532, page='NextSong', level='free', phase=0, downgraded=0),\n",
       " Row(userId='30', sessionId=532, page='NextSong', level='free', phase=0, downgraded=0),\n",
       " Row(userId='30', sessionId=532, page='NextSong', level='free', phase=0, downgraded=0),\n",
       " Row(userId='30', sessionId=532, page='NextSong', level='free', phase=0, downgraded=0),\n",
       " Row(userId='30', sessionId=532, page='NextSong', level='free', phase=0, downgraded=0),\n",
       " Row(userId='30', sessionId=532, page='NextSong', level='free', phase=0, downgraded=0),\n",
       " Row(userId='30', sessionId=532, page='NextSong', level='free', phase=0, downgraded=0),\n",
       " Row(userId='30', sessionId=532, page='NextSong', level='free', phase=0, downgraded=0),\n",
       " Row(userId='30', sessionId=532, page='NextSong', level='free', phase=0, downgraded=0),\n",
       " Row(userId='30', sessionId=532, page='NextSong', level='free', phase=0, downgraded=0),\n",
       " Row(userId='30', sessionId=532, page='NextSong', level='free', phase=0, downgraded=0),\n",
       " Row(userId='30', sessionId=532, page='NextSong', level='free', phase=0, downgraded=0),\n",
       " Row(userId='30', sessionId=532, page='Add to Playlist', level='free', phase=0, downgraded=0),\n",
       " Row(userId='30', sessionId=532, page='NextSong', level='free', phase=0, downgraded=0),\n",
       " Row(userId='30', sessionId=532, page='Thumbs Up', level='free', phase=0, downgraded=0),\n",
       " Row(userId='30', sessionId=532, page='NextSong', level='free', phase=0, downgraded=0),\n",
       " Row(userId='30', sessionId=532, page='NextSong', level='free', phase=0, downgraded=0),\n",
       " Row(userId='30', sessionId=532, page='NextSong', level='free', phase=0, downgraded=0),\n",
       " Row(userId='30', sessionId=532, page='NextSong', level='free', phase=0, downgraded=0),\n",
       " Row(userId='30', sessionId=532, page='Home', level='free', phase=0, downgraded=0),\n",
       " Row(userId='30', sessionId=532, page='NextSong', level='free', phase=0, downgraded=0),\n",
       " Row(userId='30', sessionId=532, page='NextSong', level='free', phase=0, downgraded=0),\n",
       " Row(userId='30', sessionId=532, page='NextSong', level='free', phase=0, downgraded=0),\n",
       " Row(userId='30', sessionId=532, page='Add to Playlist', level='free', phase=0, downgraded=0),\n",
       " Row(userId='30', sessionId=532, page='NextSong', level='free', phase=0, downgraded=0),\n",
       " Row(userId='30', sessionId=532, page='NextSong', level='free', phase=0, downgraded=0),\n",
       " Row(userId='30', sessionId=532, page='NextSong', level='free', phase=0, downgraded=0),\n",
       " Row(userId='30', sessionId=532, page='Home', level='free', phase=0, downgraded=0),\n",
       " Row(userId='30', sessionId=532, page='Submit Downgrade', level='paid', phase=1, downgraded=1),\n",
       " Row(userId='30', sessionId=532, page='Downgrade', level='paid', phase=1, downgraded=0),\n",
       " Row(userId='30', sessionId=532, page='NextSong', level='paid', phase=1, downgraded=0),\n",
       " Row(userId='30', sessionId=532, page='NextSong', level='paid', phase=1, downgraded=0),\n",
       " Row(userId='30', sessionId=532, page='NextSong', level='paid', phase=1, downgraded=0),\n",
       " Row(userId='30', sessionId=532, page='NextSong', level='paid', phase=1, downgraded=0),\n",
       " Row(userId='30', sessionId=532, page='NextSong', level='paid', phase=1, downgraded=0),\n",
       " Row(userId='30', sessionId=532, page='Downgrade', level='paid', phase=1, downgraded=0),\n",
       " Row(userId='30', sessionId=532, page='NextSong', level='paid', phase=1, downgraded=0),\n",
       " Row(userId='30', sessionId=532, page='NextSong', level='paid', phase=1, downgraded=0),\n",
       " Row(userId='30', sessionId=532, page='NextSong', level='paid', phase=1, downgraded=0),\n",
       " Row(userId='30', sessionId=532, page='NextSong', level='paid', phase=1, downgraded=0),\n",
       " Row(userId='30', sessionId=532, page='NextSong', level='paid', phase=1, downgraded=0),\n",
       " Row(userId='30', sessionId=532, page='NextSong', level='paid', phase=1, downgraded=0),\n",
       " Row(userId='30', sessionId=532, page='NextSong', level='paid', phase=1, downgraded=0),\n",
       " Row(userId='30', sessionId=532, page='NextSong', level='paid', phase=1, downgraded=0),\n",
       " Row(userId='30', sessionId=532, page='NextSong', level='paid', phase=1, downgraded=0),\n",
       " Row(userId='30', sessionId=532, page='NextSong', level='paid', phase=1, downgraded=0),\n",
       " Row(userId='30', sessionId=532, page='Error', level='paid', phase=1, downgraded=0),\n",
       " Row(userId='30', sessionId=532, page='NextSong', level='paid', phase=1, downgraded=0),\n",
       " Row(userId='30', sessionId=532, page='NextSong', level='paid', phase=1, downgraded=0),\n",
       " Row(userId='30', sessionId=532, page='Add to Playlist', level='paid', phase=1, downgraded=0),\n",
       " Row(userId='30', sessionId=532, page='NextSong', level='paid', phase=1, downgraded=0),\n",
       " Row(userId='30', sessionId=532, page='NextSong', level='paid', phase=1, downgraded=0),\n",
       " Row(userId='30', sessionId=532, page='NextSong', level='paid', phase=1, downgraded=0),\n",
       " Row(userId='30', sessionId=532, page='NextSong', level='paid', phase=1, downgraded=0),\n",
       " Row(userId='30', sessionId=532, page='NextSong', level='paid', phase=1, downgraded=0),\n",
       " Row(userId='30', sessionId=532, page='NextSong', level='paid', phase=1, downgraded=0),\n",
       " Row(userId='30', sessionId=532, page='NextSong', level='paid', phase=1, downgraded=0),\n",
       " Row(userId='30', sessionId=532, page='NextSong', level='paid', phase=1, downgraded=0),\n",
       " Row(userId='30', sessionId=532, page='NextSong', level='paid', phase=1, downgraded=0),\n",
       " Row(userId='30', sessionId=532, page='NextSong', level='paid', phase=1, downgraded=0),\n",
       " Row(userId='30', sessionId=532, page='NextSong', level='paid', phase=1, downgraded=0),\n",
       " Row(userId='30', sessionId=532, page='NextSong', level='paid', phase=1, downgraded=0),\n",
       " Row(userId='30', sessionId=532, page='Thumbs Up', level='paid', phase=1, downgraded=0),\n",
       " Row(userId='30', sessionId=532, page='NextSong', level='paid', phase=1, downgraded=0),\n",
       " Row(userId='30', sessionId=532, page='NextSong', level='paid', phase=1, downgraded=0),\n",
       " Row(userId='30', sessionId=532, page='NextSong', level='paid', phase=1, downgraded=0),\n",
       " Row(userId='30', sessionId=532, page='NextSong', level='paid', phase=1, downgraded=0),\n",
       " Row(userId='30', sessionId=532, page='Settings', level='paid', phase=1, downgraded=0),\n",
       " Row(userId='30', sessionId=532, page='NextSong', level='paid', phase=1, downgraded=0),\n",
       " Row(userId='30', sessionId=532, page='NextSong', level='paid', phase=1, downgraded=0),\n",
       " Row(userId='30', sessionId=532, page='NextSong', level='paid', phase=1, downgraded=0),\n",
       " Row(userId='30', sessionId=532, page='Add to Playlist', level='paid', phase=1, downgraded=0),\n",
       " Row(userId='30', sessionId=532, page='NextSong', level='paid', phase=1, downgraded=0),\n",
       " Row(userId='30', sessionId=532, page='Add Friend', level='paid', phase=1, downgraded=0),\n",
       " Row(userId='30', sessionId=532, page='Add Friend', level='paid', phase=1, downgraded=0),\n",
       " Row(userId='30', sessionId=532, page='NextSong', level='paid', phase=1, downgraded=0),\n",
       " Row(userId='30', sessionId=532, page='NextSong', level='paid', phase=1, downgraded=0),\n",
       " Row(userId='30', sessionId=532, page='Thumbs Up', level='paid', phase=1, downgraded=0),\n",
       " Row(userId='30', sessionId=532, page='NextSong', level='paid', phase=1, downgraded=0),\n",
       " Row(userId='30', sessionId=532, page='NextSong', level='paid', phase=1, downgraded=0),\n",
       " Row(userId='30', sessionId=532, page='NextSong', level='paid', phase=1, downgraded=0),\n",
       " Row(userId='30', sessionId=532, page='NextSong', level='paid', phase=1, downgraded=0),\n",
       " Row(userId='30', sessionId=532, page='NextSong', level='paid', phase=1, downgraded=0),\n",
       " Row(userId='30', sessionId=532, page='NextSong', level='paid', phase=1, downgraded=0),\n",
       " Row(userId='30', sessionId=532, page='NextSong', level='paid', phase=1, downgraded=0),\n",
       " Row(userId='30', sessionId=532, page='NextSong', level='paid', phase=1, downgraded=0),\n",
       " Row(userId='30', sessionId=532, page='NextSong', level='paid', phase=1, downgraded=0),\n",
       " Row(userId='30', sessionId=532, page='NextSong', level='paid', phase=1, downgraded=0),\n",
       " Row(userId='30', sessionId=532, page='NextSong', level='paid', phase=1, downgraded=0),\n",
       " Row(userId='30', sessionId=532, page='NextSong', level='paid', phase=1, downgraded=0),\n",
       " Row(userId='30', sessionId=532, page='NextSong', level='paid', phase=1, downgraded=0),\n",
       " Row(userId='30', sessionId=532, page='NextSong', level='paid', phase=1, downgraded=0),\n",
       " Row(userId='30', sessionId=532, page='NextSong', level='paid', phase=1, downgraded=0),\n",
       " Row(userId='30', sessionId=532, page='NextSong', level='paid', phase=1, downgraded=0),\n",
       " Row(userId='30', sessionId=532, page='NextSong', level='paid', phase=1, downgraded=0),\n",
       " Row(userId='30', sessionId=532, page='NextSong', level='paid', phase=1, downgraded=0),\n",
       " Row(userId='30', sessionId=532, page='NextSong', level='paid', phase=1, downgraded=0),\n",
       " Row(userId='30', sessionId=532, page='Thumbs Up', level='paid', phase=1, downgraded=0),\n",
       " Row(userId='30', sessionId=532, page='NextSong', level='paid', phase=1, downgraded=0),\n",
       " Row(userId='30', sessionId=532, page='NextSong', level='paid', phase=1, downgraded=0),\n",
       " Row(userId='30', sessionId=532, page='NextSong', level='paid', phase=1, downgraded=0),\n",
       " Row(userId='30', sessionId=532, page='NextSong', level='paid', phase=1, downgraded=0),\n",
       " Row(userId='30', sessionId=532, page='NextSong', level='paid', phase=1, downgraded=0),\n",
       " Row(userId='30', sessionId=532, page='Home', level='paid', phase=1, downgraded=0),\n",
       " Row(userId='30', sessionId=532, page='NextSong', level='paid', phase=1, downgraded=0),\n",
       " Row(userId='30', sessionId=532, page='Thumbs Up', level='paid', phase=1, downgraded=0),\n",
       " Row(userId='30', sessionId=532, page='NextSong', level='paid', phase=1, downgraded=0),\n",
       " Row(userId='30', sessionId=532, page='NextSong', level='paid', phase=1, downgraded=0),\n",
       " Row(userId='30', sessionId=532, page='NextSong', level='paid', phase=1, downgraded=0),\n",
       " Row(userId='30', sessionId=532, page='NextSong', level='paid', phase=1, downgraded=0),\n",
       " Row(userId='30', sessionId=532, page='NextSong', level='paid', phase=1, downgraded=0),\n",
       " Row(userId='30', sessionId=532, page='NextSong', level='paid', phase=1, downgraded=0),\n",
       " Row(userId='30', sessionId=532, page='NextSong', level='paid', phase=1, downgraded=0),\n",
       " Row(userId='30', sessionId=532, page='NextSong', level='paid', phase=1, downgraded=0),\n",
       " Row(userId='30', sessionId=532, page='NextSong', level='paid', phase=1, downgraded=0),\n",
       " Row(userId='30', sessionId=532, page='NextSong', level='paid', phase=1, downgraded=0),\n",
       " Row(userId='30', sessionId=532, page='NextSong', level='paid', phase=1, downgraded=0),\n",
       " Row(userId='30', sessionId=532, page='NextSong', level='paid', phase=1, downgraded=0),\n",
       " Row(userId='30', sessionId=532, page='NextSong', level='paid', phase=1, downgraded=0),\n",
       " Row(userId='30', sessionId=532, page='NextSong', level='paid', phase=1, downgraded=0),\n",
       " Row(userId='30', sessionId=532, page='NextSong', level='paid', phase=1, downgraded=0),\n",
       " Row(userId='30', sessionId=532, page='NextSong', level='paid', phase=1, downgraded=0),\n",
       " Row(userId='30', sessionId=532, page='NextSong', level='paid', phase=1, downgraded=0),\n",
       " Row(userId='30', sessionId=532, page='NextSong', level='paid', phase=1, downgraded=0),\n",
       " Row(userId='30', sessionId=532, page='NextSong', level='paid', phase=1, downgraded=0),\n",
       " Row(userId='30', sessionId=532, page='Thumbs Up', level='paid', phase=1, downgraded=0),\n",
       " Row(userId='30', sessionId=532, page='NextSong', level='paid', phase=1, downgraded=0),\n",
       " Row(userId='30', sessionId=532, page='NextSong', level='paid', phase=1, downgraded=0),\n",
       " Row(userId='30', sessionId=532, page='NextSong', level='paid', phase=1, downgraded=0),\n",
       " Row(userId='30', sessionId=532, page='NextSong', level='paid', phase=1, downgraded=0),\n",
       " Row(userId='30', sessionId=532, page='Add Friend', level='paid', phase=1, downgraded=0),\n",
       " Row(userId='30', sessionId=532, page='NextSong', level='paid', phase=1, downgraded=0),\n",
       " Row(userId='30', sessionId=532, page='NextSong', level='paid', phase=1, downgraded=0),\n",
       " Row(userId='30', sessionId=532, page='NextSong', level='paid', phase=1, downgraded=0),\n",
       " Row(userId='30', sessionId=532, page='Home', level='paid', phase=1, downgraded=0),\n",
       " Row(userId='30', sessionId=532, page='NextSong', level='paid', phase=1, downgraded=0),\n",
       " Row(userId='30', sessionId=532, page='NextSong', level='paid', phase=1, downgraded=0),\n",
       " Row(userId='30', sessionId=532, page='Thumbs Up', level='paid', phase=1, downgraded=0),\n",
       " Row(userId='30', sessionId=532, page='NextSong', level='paid', phase=1, downgraded=0),\n",
       " Row(userId='30', sessionId=532, page='NextSong', level='paid', phase=1, downgraded=0),\n",
       " Row(userId='30', sessionId=532, page='NextSong', level='paid', phase=1, downgraded=0),\n",
       " Row(userId='30', sessionId=532, page='NextSong', level='paid', phase=1, downgraded=0),\n",
       " Row(userId='30', sessionId=532, page='NextSong', level='paid', phase=1, downgraded=0),\n",
       " Row(userId='30', sessionId=532, page='NextSong', level='paid', phase=1, downgraded=0),\n",
       " Row(userId='30', sessionId=532, page='NextSong', level='paid', phase=1, downgraded=0),\n",
       " Row(userId='30', sessionId=532, page='NextSong', level='paid', phase=1, downgraded=0),\n",
       " Row(userId='30', sessionId=532, page='Add to Playlist', level='paid', phase=1, downgraded=0),\n",
       " Row(userId='30', sessionId=532, page='NextSong', level='paid', phase=1, downgraded=0),\n",
       " Row(userId='30', sessionId=532, page='Add to Playlist', level='paid', phase=1, downgraded=0),\n",
       " Row(userId='30', sessionId=532, page='Thumbs Up', level='paid', phase=1, downgraded=0),\n",
       " Row(userId='30', sessionId=532, page='NextSong', level='paid', phase=1, downgraded=0),\n",
       " Row(userId='30', sessionId=532, page='NextSong', level='paid', phase=1, downgraded=0),\n",
       " Row(userId='30', sessionId=532, page='Add to Playlist', level='paid', phase=1, downgraded=0),\n",
       " Row(userId='30', sessionId=532, page='Thumbs Up', level='paid', phase=1, downgraded=0),\n",
       " Row(userId='30', sessionId=532, page='NextSong', level='paid', phase=1, downgraded=0),\n",
       " Row(userId='30', sessionId=532, page='NextSong', level='paid', phase=1, downgraded=0),\n",
       " Row(userId='30', sessionId=532, page='Add to Playlist', level='paid', phase=1, downgraded=0),\n",
       " Row(userId='30', sessionId=532, page='NextSong', level='paid', phase=1, downgraded=0),\n",
       " Row(userId='30', sessionId=532, page='NextSong', level='paid', phase=1, downgraded=0),\n",
       " Row(userId='30', sessionId=532, page='NextSong', level='paid', phase=1, downgraded=0),\n",
       " Row(userId='30', sessionId=532, page='NextSong', level='paid', phase=1, downgraded=0),\n",
       " Row(userId='30', sessionId=532, page='NextSong', level='paid', phase=1, downgraded=0),\n",
       " Row(userId='30', sessionId=532, page='NextSong', level='paid', phase=1, downgraded=0),\n",
       " Row(userId='30', sessionId=532, page='NextSong', level='paid', phase=1, downgraded=0),\n",
       " Row(userId='30', sessionId=532, page='Home', level='paid', phase=1, downgraded=0),\n",
       " Row(userId='30', sessionId=532, page='NextSong', level='paid', phase=1, downgraded=0),\n",
       " Row(userId='30', sessionId=532, page='NextSong', level='paid', phase=1, downgraded=0),\n",
       " Row(userId='30', sessionId=532, page='NextSong', level='paid', phase=1, downgraded=0),\n",
       " Row(userId='30', sessionId=532, page='NextSong', level='paid', phase=1, downgraded=0),\n",
       " Row(userId='30', sessionId=532, page='NextSong', level='paid', phase=1, downgraded=0),\n",
       " Row(userId='30', sessionId=532, page='NextSong', level='paid', phase=1, downgraded=0),\n",
       " Row(userId='30', sessionId=532, page='NextSong', level='paid', phase=1, downgraded=0),\n",
       " Row(userId='30', sessionId=532, page='NextSong', level='paid', phase=1, downgraded=0),\n",
       " Row(userId='30', sessionId=532, page='Thumbs Up', level='paid', phase=1, downgraded=0),\n",
       " Row(userId='30', sessionId=532, page='NextSong', level='paid', phase=1, downgraded=0),\n",
       " Row(userId='30', sessionId=532, page='Thumbs Up', level='paid', phase=1, downgraded=0),\n",
       " Row(userId='30', sessionId=532, page='NextSong', level='paid', phase=1, downgraded=0),\n",
       " Row(userId='30', sessionId=532, page='NextSong', level='paid', phase=1, downgraded=0),\n",
       " Row(userId='30', sessionId=532, page='NextSong', level='paid', phase=1, downgraded=0),\n",
       " Row(userId='30', sessionId=532, page='NextSong', level='paid', phase=1, downgraded=0),\n",
       " Row(userId='30', sessionId=532, page='NextSong', level='paid', phase=1, downgraded=0),\n",
       " Row(userId='30', sessionId=532, page='NextSong', level='paid', phase=1, downgraded=0),\n",
       " Row(userId='30', sessionId=532, page='NextSong', level='paid', phase=1, downgraded=0),\n",
       " Row(userId='30', sessionId=532, page='NextSong', level='paid', phase=1, downgraded=0),\n",
       " Row(userId='30', sessionId=532, page='NextSong', level='paid', phase=1, downgraded=0),\n",
       " Row(userId='30', sessionId=532, page='NextSong', level='paid', phase=1, downgraded=0),\n",
       " Row(userId='30', sessionId=532, page='NextSong', level='paid', phase=1, downgraded=0),\n",
       " Row(userId='30', sessionId=532, page='NextSong', level='paid', phase=1, downgraded=0),\n",
       " Row(userId='30', sessionId=532, page='NextSong', level='paid', phase=1, downgraded=0),\n",
       " Row(userId='30', sessionId=532, page='NextSong', level='paid', phase=1, downgraded=0),\n",
       " Row(userId='30', sessionId=532, page='NextSong', level='paid', phase=1, downgraded=0),\n",
       " Row(userId='30', sessionId=532, page='NextSong', level='paid', phase=1, downgraded=0),\n",
       " Row(userId='30', sessionId=532, page='NextSong', level='paid', phase=1, downgraded=0),\n",
       " Row(userId='30', sessionId=532, page='NextSong', level='paid', phase=1, downgraded=0),\n",
       " Row(userId='30', sessionId=532, page='NextSong', level='paid', phase=1, downgraded=0),\n",
       " Row(userId='30', sessionId=532, page='NextSong', level='paid', phase=1, downgraded=0),\n",
       " Row(userId='30', sessionId=532, page='NextSong', level='paid', phase=1, downgraded=0),\n",
       " Row(userId='30', sessionId=532, page='NextSong', level='paid', phase=1, downgraded=0),\n",
       " Row(userId='30', sessionId=532, page='NextSong', level='paid', phase=1, downgraded=0),\n",
       " Row(userId='30', sessionId=532, page='NextSong', level='paid', phase=1, downgraded=0),\n",
       " Row(userId='30', sessionId=532, page='NextSong', level='paid', phase=1, downgraded=0),\n",
       " Row(userId='30', sessionId=532, page='NextSong', level='paid', phase=1, downgraded=0),\n",
       " Row(userId='30', sessionId=532, page='NextSong', level='paid', phase=1, downgraded=0),\n",
       " Row(userId='30', sessionId=532, page='NextSong', level='paid', phase=1, downgraded=0),\n",
       " Row(userId='30', sessionId=532, page='NextSong', level='paid', phase=1, downgraded=0),\n",
       " Row(userId='30', sessionId=532, page='NextSong', level='paid', phase=1, downgraded=0),\n",
       " Row(userId='30', sessionId=532, page='NextSong', level='paid', phase=1, downgraded=0),\n",
       " Row(userId='30', sessionId=532, page='NextSong', level='paid', phase=1, downgraded=0),\n",
       " Row(userId='30', sessionId=532, page='NextSong', level='paid', phase=1, downgraded=0),\n",
       " Row(userId='30', sessionId=532, page='NextSong', level='paid', phase=1, downgraded=0),\n",
       " Row(userId='30', sessionId=532, page='NextSong', level='paid', phase=1, downgraded=0),\n",
       " Row(userId='30', sessionId=532, page='NextSong', level='paid', phase=1, downgraded=0),\n",
       " Row(userId='30', sessionId=532, page='NextSong', level='paid', phase=1, downgraded=0),\n",
       " Row(userId='30', sessionId=532, page='NextSong', level='paid', phase=1, downgraded=0),\n",
       " Row(userId='30', sessionId=532, page='NextSong', level='paid', phase=1, downgraded=0),\n",
       " Row(userId='30', sessionId=532, page='NextSong', level='paid', phase=1, downgraded=0),\n",
       " Row(userId='30', sessionId=532, page='Downgrade', level='paid', phase=1, downgraded=0),\n",
       " Row(userId='30', sessionId=532, page='NextSong', level='paid', phase=1, downgraded=0),\n",
       " Row(userId='30', sessionId=532, page='NextSong', level='paid', phase=1, downgraded=0),\n",
       " Row(userId='30', sessionId=532, page='NextSong', level='paid', phase=1, downgraded=0),\n",
       " Row(userId='30', sessionId=532, page='NextSong', level='paid', phase=1, downgraded=0),\n",
       " Row(userId='30', sessionId=532, page='NextSong', level='paid', phase=1, downgraded=0),\n",
       " Row(userId='30', sessionId=532, page='NextSong', level='paid', phase=1, downgraded=0),\n",
       " Row(userId='30', sessionId=532, page='NextSong', level='paid', phase=1, downgraded=0),\n",
       " Row(userId='30', sessionId=532, page='NextSong', level='paid', phase=1, downgraded=0),\n",
       " Row(userId='30', sessionId=532, page='NextSong', level='paid', phase=1, downgraded=0),\n",
       " Row(userId='30', sessionId=532, page='NextSong', level='paid', phase=1, downgraded=0),\n",
       " Row(userId='30', sessionId=532, page='NextSong', level='paid', phase=1, downgraded=0),\n",
       " Row(userId='30', sessionId=532, page='NextSong', level='paid', phase=1, downgraded=0),\n",
       " Row(userId='30', sessionId=532, page='NextSong', level='paid', phase=1, downgraded=0),\n",
       " Row(userId='30', sessionId=532, page='Home', level='paid', phase=1, downgraded=0),\n",
       " Row(userId='30', sessionId=532, page='Help', level='paid', phase=1, downgraded=0),\n",
       " Row(userId='30', sessionId=532, page='NextSong', level='paid', phase=1, downgraded=0),\n",
       " Row(userId='30', sessionId=532, page='NextSong', level='paid', phase=1, downgraded=0),\n",
       " Row(userId='30', sessionId=532, page='NextSong', level='paid', phase=1, downgraded=0),\n",
       " Row(userId='30', sessionId=532, page='NextSong', level='paid', phase=1, downgraded=0),\n",
       " Row(userId='30', sessionId=532, page='NextSong', level='paid', phase=1, downgraded=0),\n",
       " Row(userId='30', sessionId=532, page='NextSong', level='paid', phase=1, downgraded=0),\n",
       " Row(userId='30', sessionId=532, page='NextSong', level='paid', phase=1, downgraded=0),\n",
       " Row(userId='30', sessionId=532, page='NextSong', level='paid', phase=1, downgraded=0),\n",
       " Row(userId='30', sessionId=532, page='NextSong', level='paid', phase=1, downgraded=0),\n",
       " Row(userId='30', sessionId=532, page='NextSong', level='paid', phase=1, downgraded=0),\n",
       " Row(userId='30', sessionId=532, page='Home', level='paid', phase=1, downgraded=0),\n",
       " Row(userId='30', sessionId=614, page='NextSong', level='free', phase=0, downgraded=0),\n",
       " Row(userId='30', sessionId=614, page='NextSong', level='free', phase=0, downgraded=0),\n",
       " Row(userId='30', sessionId=614, page='NextSong', level='free', phase=0, downgraded=0),\n",
       " Row(userId='30', sessionId=614, page='NextSong', level='free', phase=0, downgraded=0),\n",
       " Row(userId='30', sessionId=614, page='NextSong', level='free', phase=0, downgraded=0),\n",
       " Row(userId='30', sessionId=614, page='Home', level='free', phase=0, downgraded=0),\n",
       " Row(userId='30', sessionId=682, page='Home', level='free', phase=0, downgraded=0),\n",
       " Row(userId='30', sessionId=682, page='Home', level='free', phase=0, downgraded=0),\n",
       " Row(userId='30', sessionId=757, page='Roll Advert', level='free', phase=0, downgraded=0),\n",
       " Row(userId='30', sessionId=757, page='Roll Advert', level='free', phase=0, downgraded=0),\n",
       " Row(userId='30', sessionId=757, page='NextSong', level='free', phase=0, downgraded=0),\n",
       " Row(userId='30', sessionId=757, page='NextSong', level='free', phase=0, downgraded=0),\n",
       " Row(userId='30', sessionId=757, page='NextSong', level='free', phase=0, downgraded=0),\n",
       " Row(userId='30', sessionId=757, page='Thumbs Up', level='free', phase=0, downgraded=0),\n",
       " Row(userId='30', sessionId=757, page='NextSong', level='free', phase=0, downgraded=0),\n",
       " Row(userId='30', sessionId=757, page='NextSong', level='free', phase=0, downgraded=0),\n",
       " Row(userId='30', sessionId=757, page='NextSong', level='free', phase=0, downgraded=0),\n",
       " Row(userId='30', sessionId=757, page='NextSong', level='free', phase=0, downgraded=0),\n",
       " Row(userId='30', sessionId=757, page='NextSong', level='free', phase=0, downgraded=0),\n",
       " Row(userId='30', sessionId=757, page='NextSong', level='free', phase=0, downgraded=0),\n",
       " Row(userId='30', sessionId=757, page='NextSong', level='free', phase=0, downgraded=0),\n",
       " Row(userId='30', sessionId=757, page='NextSong', level='free', phase=0, downgraded=0),\n",
       " Row(userId='30', sessionId=757, page='NextSong', level='free', phase=0, downgraded=0),\n",
       " Row(userId='30', sessionId=757, page='NextSong', level='free', phase=0, downgraded=0),\n",
       " Row(userId='30', sessionId=757, page='NextSong', level='free', phase=0, downgraded=0),\n",
       " Row(userId='30', sessionId=757, page='Upgrade', level='free', phase=0, downgraded=0),\n",
       " Row(userId='30', sessionId=757, page='NextSong', level='free', phase=0, downgraded=0),\n",
       " Row(userId='30', sessionId=757, page='Roll Advert', level='free', phase=0, downgraded=0),\n",
       " Row(userId='30', sessionId=757, page='NextSong', level='free', phase=0, downgraded=0),\n",
       " Row(userId='30', sessionId=757, page='NextSong', level='free', phase=0, downgraded=0),\n",
       " Row(userId='30', sessionId=757, page='NextSong', level='free', phase=0, downgraded=0),\n",
       " Row(userId='30', sessionId=757, page='NextSong', level='free', phase=0, downgraded=0),\n",
       " Row(userId='30', sessionId=757, page='NextSong', level='free', phase=0, downgraded=0),\n",
       " Row(userId='30', sessionId=757, page='NextSong', level='free', phase=0, downgraded=0),\n",
       " Row(userId='30', sessionId=757, page='Home', level='free', phase=0, downgraded=0),\n",
       " Row(userId='30', sessionId=763, page='Logout', level='free', phase=0, downgraded=0),\n",
       " Row(userId='30', sessionId=763, page='NextSong', level='free', phase=0, downgraded=0),\n",
       " Row(userId='30', sessionId=763, page='Upgrade', level='free', phase=0, downgraded=0),\n",
       " Row(userId='30', sessionId=763, page='NextSong', level='free', phase=0, downgraded=0),\n",
       " Row(userId='30', sessionId=763, page='Thumbs Up', level='free', phase=0, downgraded=0),\n",
       " Row(userId='30', sessionId=763, page='NextSong', level='free', phase=0, downgraded=0),\n",
       " Row(userId='30', sessionId=763, page='NextSong', level='free', phase=0, downgraded=0),\n",
       " Row(userId='30', sessionId=763, page='NextSong', level='free', phase=0, downgraded=0),\n",
       " Row(userId='30', sessionId=763, page='NextSong', level='free', phase=0, downgraded=0),\n",
       " Row(userId='30', sessionId=763, page='NextSong', level='free', phase=0, downgraded=0),\n",
       " Row(userId='30', sessionId=763, page='NextSong', level='free', phase=0, downgraded=0),\n",
       " Row(userId='30', sessionId=763, page='NextSong', level='free', phase=0, downgraded=0),\n",
       " Row(userId='30', sessionId=763, page='Thumbs Up', level='free', phase=0, downgraded=0),\n",
       " Row(userId='30', sessionId=763, page='NextSong', level='free', phase=0, downgraded=0),\n",
       " Row(userId='30', sessionId=763, page='NextSong', level='free', phase=0, downgraded=0),\n",
       " Row(userId='30', sessionId=763, page='NextSong', level='free', phase=0, downgraded=0),\n",
       " Row(userId='30', sessionId=763, page='NextSong', level='free', phase=0, downgraded=0),\n",
       " Row(userId='30', sessionId=763, page='NextSong', level='free', phase=0, downgraded=0),\n",
       " Row(userId='30', sessionId=763, page='Roll Advert', level='free', phase=0, downgraded=0),\n",
       " Row(userId='30', sessionId=763, page='NextSong', level='free', phase=0, downgraded=0),\n",
       " Row(userId='30', sessionId=763, page='NextSong', level='free', phase=0, downgraded=0),\n",
       " Row(userId='30', sessionId=763, page='NextSong', level='free', phase=0, downgraded=0),\n",
       " Row(userId='30', sessionId=763, page='NextSong', level='free', phase=0, downgraded=0),\n",
       " Row(userId='30', sessionId=763, page='Thumbs Up', level='free', phase=0, downgraded=0),\n",
       " Row(userId='30', sessionId=763, page='NextSong', level='free', phase=0, downgraded=0),\n",
       " Row(userId='30', sessionId=763, page='NextSong', level='free', phase=0, downgraded=0),\n",
       " Row(userId='30', sessionId=763, page='NextSong', level='free', phase=0, downgraded=0),\n",
       " Row(userId='30', sessionId=763, page='Roll Advert', level='free', phase=0, downgraded=0),\n",
       " Row(userId='30', sessionId=763, page='NextSong', level='free', phase=0, downgraded=0),\n",
       " Row(userId='30', sessionId=763, page='NextSong', level='free', phase=0, downgraded=0),\n",
       " Row(userId='30', sessionId=763, page='NextSong', level='free', phase=0, downgraded=0),\n",
       " Row(userId='30', sessionId=763, page='NextSong', level='free', phase=0, downgraded=0),\n",
       " Row(userId='30', sessionId=816, page='Settings', level='free', phase=0, downgraded=0),\n",
       " Row(userId='30', sessionId=816, page='Add Friend', level='free', phase=0, downgraded=0),\n",
       " Row(userId='30', sessionId=816, page='Home', level='free', phase=0, downgraded=0),\n",
       " Row(userId='30', sessionId=816, page='NextSong', level='free', phase=0, downgraded=0),\n",
       " Row(userId='30', sessionId=816, page='NextSong', level='free', phase=0, downgraded=0),\n",
       " Row(userId='30', sessionId=816, page='Help', level='free', phase=0, downgraded=0),\n",
       " Row(userId='30', sessionId=816, page='NextSong', level='free', phase=0, downgraded=0),\n",
       " Row(userId='30', sessionId=816, page='NextSong', level='free', phase=0, downgraded=0),\n",
       " Row(userId='30', sessionId=816, page='Home', level='free', phase=0, downgraded=0),\n",
       " Row(userId='30', sessionId=816, page='Logout', level='free', phase=0, downgraded=0),\n",
       " Row(userId='30', sessionId=816, page='NextSong', level='free', phase=0, downgraded=0),\n",
       " Row(userId='30', sessionId=816, page='NextSong', level='free', phase=0, downgraded=0),\n",
       " Row(userId='30', sessionId=816, page='NextSong', level='free', phase=0, downgraded=0),\n",
       " Row(userId='30', sessionId=816, page='Thumbs Up', level='free', phase=0, downgraded=0),\n",
       " Row(userId='30', sessionId=816, page='NextSong', level='free', phase=0, downgraded=0),\n",
       " Row(userId='30', sessionId=816, page='NextSong', level='free', phase=0, downgraded=0),\n",
       " Row(userId='30', sessionId=816, page='NextSong', level='free', phase=0, downgraded=0),\n",
       " Row(userId='30', sessionId=816, page='Add to Playlist', level='free', phase=0, downgraded=0),\n",
       " Row(userId='30', sessionId=816, page='NextSong', level='free', phase=0, downgraded=0),\n",
       " Row(userId='30', sessionId=816, page='NextSong', level='free', phase=0, downgraded=0),\n",
       " Row(userId='30', sessionId=816, page='NextSong', level='free', phase=0, downgraded=0),\n",
       " Row(userId='30', sessionId=816, page='NextSong', level='free', phase=0, downgraded=0),\n",
       " Row(userId='30', sessionId=816, page='NextSong', level='free', phase=0, downgraded=0),\n",
       " Row(userId='30', sessionId=816, page='Add to Playlist', level='free', phase=0, downgraded=0),\n",
       " Row(userId='30', sessionId=816, page='NextSong', level='free', phase=0, downgraded=0),\n",
       " Row(userId='30', sessionId=816, page='NextSong', level='free', phase=0, downgraded=0),\n",
       " Row(userId='30', sessionId=816, page='Roll Advert', level='free', phase=0, downgraded=0),\n",
       " Row(userId='30', sessionId=816, page='NextSong', level='free', phase=0, downgraded=0),\n",
       " Row(userId='30', sessionId=816, page='NextSong', level='free', phase=0, downgraded=0),\n",
       " Row(userId='30', sessionId=816, page='NextSong', level='free', phase=0, downgraded=0),\n",
       " Row(userId='30', sessionId=816, page='NextSong', level='free', phase=0, downgraded=0),\n",
       " Row(userId='30', sessionId=816, page='NextSong', level='free', phase=0, downgraded=0),\n",
       " Row(userId='30', sessionId=816, page='NextSong', level='free', phase=0, downgraded=0),\n",
       " Row(userId='30', sessionId=816, page='NextSong', level='free', phase=0, downgraded=0),\n",
       " Row(userId='30', sessionId=816, page='NextSong', level='free', phase=0, downgraded=0),\n",
       " Row(userId='30', sessionId=816, page='NextSong', level='free', phase=0, downgraded=0),\n",
       " Row(userId='30', sessionId=816, page='NextSong', level='free', phase=0, downgraded=0),\n",
       " Row(userId='30', sessionId=816, page='Thumbs Up', level='free', phase=0, downgraded=0),\n",
       " Row(userId='30', sessionId=816, page='NextSong', level='free', phase=0, downgraded=0),\n",
       " Row(userId='30', sessionId=816, page='NextSong', level='free', phase=0, downgraded=0),\n",
       " Row(userId='30', sessionId=816, page='NextSong', level='free', phase=0, downgraded=0),\n",
       " Row(userId='30', sessionId=816, page='Roll Advert', level='free', phase=0, downgraded=0),\n",
       " Row(userId='30', sessionId=816, page='Roll Advert', level='free', phase=0, downgraded=0),\n",
       " Row(userId='30', sessionId=816, page='NextSong', level='free', phase=0, downgraded=0),\n",
       " Row(userId='30', sessionId=816, page='NextSong', level='free', phase=0, downgraded=0),\n",
       " Row(userId='30', sessionId=816, page='NextSong', level='free', phase=0, downgraded=0),\n",
       " Row(userId='30', sessionId=816, page='Home', level='free', phase=0, downgraded=0),\n",
       " Row(userId='30', sessionId=816, page='Logout', level='free', phase=0, downgraded=0),\n",
       " Row(userId='30', sessionId=816, page='Roll Advert', level='free', phase=0, downgraded=0),\n",
       " Row(userId='30', sessionId=816, page='NextSong', level='free', phase=0, downgraded=0),\n",
       " Row(userId='30', sessionId=816, page='NextSong', level='free', phase=0, downgraded=0),\n",
       " Row(userId='30', sessionId=816, page='NextSong', level='free', phase=0, downgraded=0),\n",
       " Row(userId='30', sessionId=816, page='NextSong', level='free', phase=0, downgraded=0),\n",
       " Row(userId='30', sessionId=816, page='Thumbs Up', level='free', phase=0, downgraded=0),\n",
       " Row(userId='30', sessionId=816, page='NextSong', level='free', phase=0, downgraded=0),\n",
       " Row(userId='30', sessionId=816, page='NextSong', level='free', phase=0, downgraded=0),\n",
       " Row(userId='30', sessionId=816, page='NextSong', level='free', phase=0, downgraded=0),\n",
       " Row(userId='30', sessionId=816, page='NextSong', level='free', phase=0, downgraded=0),\n",
       " Row(userId='30', sessionId=816, page='NextSong', level='free', phase=0, downgraded=0),\n",
       " Row(userId='30', sessionId=816, page='NextSong', level='free', phase=0, downgraded=0),\n",
       " Row(userId='30', sessionId=816, page='Home', level='free', phase=0, downgraded=0),\n",
       " Row(userId='30', sessionId=816, page='NextSong', level='free', phase=0, downgraded=0),\n",
       " Row(userId='30', sessionId=816, page='NextSong', level='free', phase=0, downgraded=0),\n",
       " Row(userId='30', sessionId=816, page='Roll Advert', level='free', phase=0, downgraded=0),\n",
       " Row(userId='30', sessionId=816, page='NextSong', level='free', phase=0, downgraded=0),\n",
       " Row(userId='30', sessionId=816, page='NextSong', level='free', phase=0, downgraded=0),\n",
       " Row(userId='30', sessionId=816, page='NextSong', level='free', phase=0, downgraded=0),\n",
       " Row(userId='30', sessionId=816, page='NextSong', level='free', phase=0, downgraded=0),\n",
       " Row(userId='30', sessionId=816, page='NextSong', level='free', phase=0, downgraded=0),\n",
       " Row(userId='30', sessionId=816, page='NextSong', level='free', phase=0, downgraded=0),\n",
       " Row(userId='30', sessionId=816, page='NextSong', level='free', phase=0, downgraded=0),\n",
       " Row(userId='30', sessionId=816, page='NextSong', level='free', phase=0, downgraded=0),\n",
       " Row(userId='30', sessionId=816, page='NextSong', level='free', phase=0, downgraded=0),\n",
       " Row(userId='30', sessionId=816, page='NextSong', level='free', phase=0, downgraded=0),\n",
       " Row(userId='30', sessionId=816, page='Add to Playlist', level='free', phase=0, downgraded=0),\n",
       " Row(userId='30', sessionId=816, page='NextSong', level='free', phase=0, downgraded=0),\n",
       " Row(userId='30', sessionId=816, page='Home', level='free', phase=0, downgraded=0),\n",
       " Row(userId='30', sessionId=892, page='Logout', level='free', phase=0, downgraded=0),\n",
       " Row(userId='30', sessionId=892, page='Home', level='free', phase=0, downgraded=0),\n",
       " Row(userId='30', sessionId=945, page='Home', level='free', phase=0, downgraded=0),\n",
       " Row(userId='30', sessionId=1110, page='NextSong', level='free', phase=0, downgraded=0),\n",
       " Row(userId='30', sessionId=1110, page='Roll Advert', level='free', phase=0, downgraded=0),\n",
       " Row(userId='30', sessionId=1110, page='NextSong', level='free', phase=0, downgraded=0),\n",
       " Row(userId='30', sessionId=1110, page='Thumbs Down', level='free', phase=0, downgraded=0),\n",
       " Row(userId='30', sessionId=1110, page='NextSong', level='free', phase=0, downgraded=0),\n",
       " Row(userId='30', sessionId=1110, page='Roll Advert', level='free', phase=0, downgraded=0),\n",
       " Row(userId='30', sessionId=1110, page='NextSong', level='free', phase=0, downgraded=0),\n",
       " Row(userId='30', sessionId=1110, page='Add to Playlist', level='free', phase=0, downgraded=0),\n",
       " Row(userId='30', sessionId=1110, page='NextSong', level='free', phase=0, downgraded=0),\n",
       " Row(userId='30', sessionId=1110, page='NextSong', level='free', phase=0, downgraded=0),\n",
       " Row(userId='30', sessionId=1110, page='Roll Advert', level='free', phase=0, downgraded=0),\n",
       " Row(userId='30', sessionId=1110, page='NextSong', level='free', phase=0, downgraded=0),\n",
       " Row(userId='30', sessionId=1110, page='NextSong', level='free', phase=0, downgraded=0),\n",
       " Row(userId='30', sessionId=1110, page='NextSong', level='free', phase=0, downgraded=0),\n",
       " Row(userId='30', sessionId=1110, page='NextSong', level='free', phase=0, downgraded=0),\n",
       " Row(userId='30', sessionId=1110, page='NextSong', level='free', phase=0, downgraded=0),\n",
       " Row(userId='30', sessionId=1110, page='Add to Playlist', level='free', phase=0, downgraded=0),\n",
       " Row(userId='30', sessionId=1110, page='NextSong', level='free', phase=0, downgraded=0),\n",
       " Row(userId='30', sessionId=1110, page='NextSong', level='free', phase=0, downgraded=0),\n",
       " Row(userId='30', sessionId=1110, page='NextSong', level='free', phase=0, downgraded=0),\n",
       " Row(userId='30', sessionId=1110, page='NextSong', level='free', phase=0, downgraded=0),\n",
       " Row(userId='30', sessionId=1110, page='NextSong', level='free', phase=0, downgraded=0),\n",
       " Row(userId='30', sessionId=1110, page='NextSong', level='free', phase=0, downgraded=0),\n",
       " Row(userId='30', sessionId=1110, page='NextSong', level='free', phase=0, downgraded=0),\n",
       " Row(userId='30', sessionId=1110, page='NextSong', level='free', phase=0, downgraded=0),\n",
       " Row(userId='30', sessionId=1110, page='NextSong', level='free', phase=0, downgraded=0),\n",
       " Row(userId='30', sessionId=1110, page='NextSong', level='free', phase=0, downgraded=0),\n",
       " Row(userId='30', sessionId=1110, page='NextSong', level='free', phase=0, downgraded=0),\n",
       " Row(userId='30', sessionId=1110, page='NextSong', level='free', phase=0, downgraded=0),\n",
       " Row(userId='30', sessionId=1110, page='NextSong', level='free', phase=0, downgraded=0),\n",
       " Row(userId='30', sessionId=1110, page='NextSong', level='free', phase=0, downgraded=0),\n",
       " Row(userId='30', sessionId=1184, page='NextSong', level='free', phase=0, downgraded=0),\n",
       " Row(userId='30', sessionId=1184, page='NextSong', level='free', phase=0, downgraded=0),\n",
       " Row(userId='30', sessionId=1184, page='Add Friend', level='free', phase=0, downgraded=0),\n",
       " Row(userId='30', sessionId=1184, page='NextSong', level='free', phase=0, downgraded=0),\n",
       " Row(userId='30', sessionId=1184, page='NextSong', level='free', phase=0, downgraded=0),\n",
       " Row(userId='30', sessionId=1184, page='NextSong', level='free', phase=0, downgraded=0),\n",
       " Row(userId='30', sessionId=1184, page='Roll Advert', level='free', phase=0, downgraded=0),\n",
       " Row(userId='30', sessionId=1184, page='NextSong', level='free', phase=0, downgraded=0),\n",
       " Row(userId='30', sessionId=1184, page='Settings', level='free', phase=0, downgraded=0),\n",
       " Row(userId='30', sessionId=1184, page='NextSong', level='free', phase=0, downgraded=0),\n",
       " Row(userId='30', sessionId=1184, page='NextSong', level='free', phase=0, downgraded=0),\n",
       " Row(userId='30', sessionId=1184, page='NextSong', level='free', phase=0, downgraded=0),\n",
       " Row(userId='30', sessionId=1184, page='NextSong', level='free', phase=0, downgraded=0),\n",
       " Row(userId='30', sessionId=1184, page='NextSong', level='free', phase=0, downgraded=0),\n",
       " Row(userId='30', sessionId=1184, page='NextSong', level='free', phase=0, downgraded=0),\n",
       " Row(userId='30', sessionId=1184, page='NextSong', level='free', phase=0, downgraded=0),\n",
       " Row(userId='30', sessionId=1184, page='NextSong', level='free', phase=0, downgraded=0),\n",
       " Row(userId='30', sessionId=1184, page='NextSong', level='free', phase=0, downgraded=0),\n",
       " Row(userId='30', sessionId=1184, page='NextSong', level='free', phase=0, downgraded=0),\n",
       " Row(userId='30', sessionId=1184, page='NextSong', level='free', phase=0, downgraded=0),\n",
       " Row(userId='30', sessionId=1184, page='NextSong', level='free', phase=0, downgraded=0),\n",
       " Row(userId='30', sessionId=1184, page='NextSong', level='free', phase=0, downgraded=0),\n",
       " Row(userId='30', sessionId=1184, page='Thumbs Up', level='free', phase=0, downgraded=0),\n",
       " Row(userId='30', sessionId=1184, page='NextSong', level='free', phase=0, downgraded=0),\n",
       " Row(userId='30', sessionId=1184, page='NextSong', level='free', phase=0, downgraded=0),\n",
       " Row(userId='30', sessionId=1184, page='NextSong', level='free', phase=0, downgraded=0),\n",
       " Row(userId='30', sessionId=1184, page='NextSong', level='free', phase=0, downgraded=0),\n",
       " Row(userId='30', sessionId=1184, page='Home', level='free', phase=0, downgraded=0),\n",
       " Row(userId='30', sessionId=1184, page='NextSong', level='free', phase=0, downgraded=0),\n",
       " Row(userId='30', sessionId=1184, page='NextSong', level='free', phase=0, downgraded=0),\n",
       " Row(userId='30', sessionId=1184, page='Thumbs Up', level='free', phase=0, downgraded=0),\n",
       " Row(userId='30', sessionId=1184, page='NextSong', level='free', phase=0, downgraded=0),\n",
       " Row(userId='30', sessionId=1184, page='NextSong', level='free', phase=0, downgraded=0),\n",
       " Row(userId='30', sessionId=1304, page='NextSong', level='free', phase=0, downgraded=0),\n",
       " Row(userId='30', sessionId=1304, page='NextSong', level='free', phase=0, downgraded=0),\n",
       " Row(userId='30', sessionId=1304, page='NextSong', level='free', phase=0, downgraded=0),\n",
       " Row(userId='30', sessionId=1311, page='NextSong', level='free', phase=0, downgraded=0),\n",
       " Row(userId='30', sessionId=1311, page='NextSong', level='free', phase=0, downgraded=0),\n",
       " Row(userId='30', sessionId=1311, page='NextSong', level='free', phase=0, downgraded=0),\n",
       " Row(userId='30', sessionId=1311, page='NextSong', level='free', phase=0, downgraded=0),\n",
       " Row(userId='30', sessionId=1311, page='NextSong', level='free', phase=0, downgraded=0),\n",
       " Row(userId='30', sessionId=1311, page='NextSong', level='free', phase=0, downgraded=0),\n",
       " Row(userId='30', sessionId=1311, page='NextSong', level='free', phase=0, downgraded=0),\n",
       " Row(userId='30', sessionId=1311, page='NextSong', level='free', phase=0, downgraded=0),\n",
       " Row(userId='30', sessionId=1311, page='Settings', level='free', phase=0, downgraded=0),\n",
       " Row(userId='30', sessionId=1311, page='NextSong', level='free', phase=0, downgraded=0),\n",
       " Row(userId='30', sessionId=1311, page='NextSong', level='free', phase=0, downgraded=0),\n",
       " Row(userId='30', sessionId=1311, page='NextSong', level='free', phase=0, downgraded=0),\n",
       " Row(userId='30', sessionId=1311, page='NextSong', level='free', phase=0, downgraded=0),\n",
       " Row(userId='30', sessionId=1311, page='NextSong', level='free', phase=0, downgraded=0),\n",
       " Row(userId='30', sessionId=1311, page='Roll Advert', level='free', phase=0, downgraded=0),\n",
       " Row(userId='30', sessionId=1311, page='NextSong', level='free', phase=0, downgraded=0),\n",
       " Row(userId='30', sessionId=1311, page='NextSong', level='free', phase=0, downgraded=0),\n",
       " Row(userId='30', sessionId=1311, page='Settings', level='free', phase=0, downgraded=0),\n",
       " Row(userId='30', sessionId=1311, page='NextSong', level='free', phase=0, downgraded=0),\n",
       " Row(userId='30', sessionId=1311, page='NextSong', level='free', phase=0, downgraded=0),\n",
       " Row(userId='30', sessionId=1311, page='NextSong', level='free', phase=0, downgraded=0),\n",
       " Row(userId='30', sessionId=1311, page='NextSong', level='free', phase=0, downgraded=0),\n",
       " Row(userId='30', sessionId=1311, page='NextSong', level='free', phase=0, downgraded=0),\n",
       " Row(userId='30', sessionId=1311, page='Home', level='free', phase=0, downgraded=0),\n",
       " Row(userId='30', sessionId=1311, page='Logout', level='free', phase=0, downgraded=0),\n",
       " Row(userId='30', sessionId=1311, page='NextSong', level='free', phase=0, downgraded=0),\n",
       " Row(userId='30', sessionId=1311, page='NextSong', level='free', phase=0, downgraded=0),\n",
       " Row(userId='30', sessionId=1311, page='NextSong', level='free', phase=0, downgraded=0),\n",
       " Row(userId='30', sessionId=1311, page='NextSong', level='free', phase=0, downgraded=0),\n",
       " Row(userId='30', sessionId=1311, page='NextSong', level='free', phase=0, downgraded=0),\n",
       " Row(userId='30', sessionId=1311, page='Add to Playlist', level='free', phase=0, downgraded=0),\n",
       " Row(userId='30', sessionId=1311, page='NextSong', level='free', phase=0, downgraded=0),\n",
       " Row(userId='30', sessionId=1311, page='NextSong', level='free', phase=0, downgraded=0),\n",
       " Row(userId='30', sessionId=1311, page='NextSong', level='free', phase=0, downgraded=0),\n",
       " Row(userId='30', sessionId=1311, page='Roll Advert', level='free', phase=0, downgraded=0),\n",
       " Row(userId='30', sessionId=1311, page='NextSong', level='free', phase=0, downgraded=0),\n",
       " Row(userId='30', sessionId=1311, page='Home', level='free', phase=0, downgraded=0),\n",
       " Row(userId='30', sessionId=1311, page='NextSong', level='free', phase=0, downgraded=0),\n",
       " Row(userId='30', sessionId=1311, page='NextSong', level='free', phase=0, downgraded=0),\n",
       " Row(userId='30', sessionId=1311, page='NextSong', level='free', phase=0, downgraded=0),\n",
       " Row(userId='30', sessionId=1311, page='NextSong', level='free', phase=0, downgraded=0),\n",
       " Row(userId='30', sessionId=1311, page='NextSong', level='free', phase=0, downgraded=0),\n",
       " Row(userId='30', sessionId=1311, page='Roll Advert', level='free', phase=0, downgraded=0),\n",
       " Row(userId='30', sessionId=1311, page='NextSong', level='free', phase=0, downgraded=0),\n",
       " Row(userId='30', sessionId=1311, page='NextSong', level='free', phase=0, downgraded=0),\n",
       " Row(userId='30', sessionId=1311, page='Roll Advert', level='free', phase=0, downgraded=0),\n",
       " Row(userId='30', sessionId=1311, page='NextSong', level='free', phase=0, downgraded=0),\n",
       " Row(userId='30', sessionId=1311, page='NextSong', level='free', phase=0, downgraded=0),\n",
       " Row(userId='30', sessionId=1311, page='NextSong', level='free', phase=0, downgraded=0),\n",
       " Row(userId='30', sessionId=1311, page='Roll Advert', level='free', phase=0, downgraded=0),\n",
       " Row(userId='30', sessionId=1311, page='NextSong', level='free', phase=0, downgraded=0),\n",
       " Row(userId='30', sessionId=1311, page='NextSong', level='free', phase=0, downgraded=0),\n",
       " Row(userId='30', sessionId=1311, page='NextSong', level='free', phase=0, downgraded=0),\n",
       " Row(userId='30', sessionId=1311, page='NextSong', level='free', phase=0, downgraded=0),\n",
       " Row(userId='30', sessionId=1311, page='NextSong', level='free', phase=0, downgraded=0),\n",
       " Row(userId='30', sessionId=1311, page='NextSong', level='free', phase=0, downgraded=0),\n",
       " Row(userId='30', sessionId=1311, page='NextSong', level='free', phase=0, downgraded=0),\n",
       " Row(userId='30', sessionId=1311, page='Thumbs Down', level='free', phase=0, downgraded=0),\n",
       " Row(userId='30', sessionId=1311, page='NextSong', level='free', phase=0, downgraded=0),\n",
       " Row(userId='30', sessionId=1311, page='NextSong', level='free', phase=0, downgraded=0),\n",
       " Row(userId='30', sessionId=1340, page='Roll Advert', level='free', phase=0, downgraded=0),\n",
       " Row(userId='30', sessionId=1340, page='NextSong', level='free', phase=0, downgraded=0),\n",
       " Row(userId='30', sessionId=1340, page='Roll Advert', level='free', phase=0, downgraded=0),\n",
       " Row(userId='30', sessionId=1340, page='NextSong', level='free', phase=0, downgraded=0),\n",
       " Row(userId='30', sessionId=1340, page='NextSong', level='free', phase=0, downgraded=0),\n",
       " Row(userId='30', sessionId=1340, page='NextSong', level='free', phase=0, downgraded=0),\n",
       " Row(userId='30', sessionId=1340, page='NextSong', level='free', phase=0, downgraded=0),\n",
       " Row(userId='30', sessionId=1340, page='NextSong', level='free', phase=0, downgraded=0),\n",
       " Row(userId='30', sessionId=1340, page='Home', level='free', phase=0, downgraded=0),\n",
       " Row(userId='30', sessionId=1340, page='Logout', level='free', phase=0, downgraded=0),\n",
       " Row(userId='30', sessionId=1340, page='NextSong', level='free', phase=0, downgraded=0),\n",
       " Row(userId='30', sessionId=1340, page='NextSong', level='free', phase=0, downgraded=0),\n",
       " Row(userId='30', sessionId=1340, page='Thumbs Up', level='free', phase=0, downgraded=0),\n",
       " Row(userId='30', sessionId=1340, page='NextSong', level='free', phase=0, downgraded=0),\n",
       " Row(userId='30', sessionId=1340, page='Thumbs Down', level='free', phase=0, downgraded=0),\n",
       " Row(userId='30', sessionId=1340, page='NextSong', level='free', phase=0, downgraded=0),\n",
       " Row(userId='30', sessionId=1340, page='Add to Playlist', level='free', phase=0, downgraded=0),\n",
       " Row(userId='30', sessionId=1340, page='NextSong', level='free', phase=0, downgraded=0),\n",
       " Row(userId='30', sessionId=1340, page='NextSong', level='free', phase=0, downgraded=0),\n",
       " Row(userId='30', sessionId=1340, page='NextSong', level='free', phase=0, downgraded=0),\n",
       " Row(userId='30', sessionId=1340, page='NextSong', level='free', phase=0, downgraded=0),\n",
       " Row(userId='30', sessionId=1340, page='NextSong', level='free', phase=0, downgraded=0),\n",
       " Row(userId='30', sessionId=1340, page='NextSong', level='free', phase=0, downgraded=0),\n",
       " Row(userId='30', sessionId=1340, page='NextSong', level='free', phase=0, downgraded=0),\n",
       " Row(userId='30', sessionId=1340, page='NextSong', level='free', phase=0, downgraded=0),\n",
       " Row(userId='30', sessionId=1340, page='NextSong', level='free', phase=0, downgraded=0),\n",
       " Row(userId='30', sessionId=1340, page='Upgrade', level='free', phase=0, downgraded=0),\n",
       " Row(userId='30', sessionId=1340, page='NextSong', level='free', phase=0, downgraded=0),\n",
       " Row(userId='30', sessionId=1340, page='NextSong', level='free', phase=0, downgraded=0),\n",
       " Row(userId='30', sessionId=1340, page='NextSong', level='free', phase=0, downgraded=0),\n",
       " Row(userId='30', sessionId=1340, page='NextSong', level='free', phase=0, downgraded=0),\n",
       " Row(userId='30', sessionId=1340, page='NextSong', level='free', phase=0, downgraded=0),\n",
       " Row(userId='30', sessionId=1340, page='NextSong', level='free', phase=0, downgraded=0),\n",
       " Row(userId='30', sessionId=1340, page='NextSong', level='free', phase=0, downgraded=0),\n",
       " Row(userId='30', sessionId=1340, page='NextSong', level='free', phase=0, downgraded=0),\n",
       " Row(userId='30', sessionId=1340, page='NextSong', level='free', phase=0, downgraded=0),\n",
       " Row(userId='30', sessionId=1340, page='NextSong', level='free', phase=0, downgraded=0),\n",
       " Row(userId='30', sessionId=1340, page='Roll Advert', level='free', phase=0, downgraded=0),\n",
       " Row(userId='30', sessionId=1340, page='NextSong', level='free', phase=0, downgraded=0),\n",
       " Row(userId='30', sessionId=1340, page='NextSong', level='free', phase=0, downgraded=0),\n",
       " Row(userId='30', sessionId=1340, page='NextSong', level='free', phase=0, downgraded=0),\n",
       " Row(userId='30', sessionId=1340, page='NextSong', level='free', phase=0, downgraded=0),\n",
       " Row(userId='30', sessionId=1340, page='NextSong', level='free', phase=0, downgraded=0),\n",
       " Row(userId='30', sessionId=1340, page='Roll Advert', level='free', phase=0, downgraded=0),\n",
       " Row(userId='30', sessionId=1340, page='Roll Advert', level='free', phase=0, downgraded=0),\n",
       " Row(userId='30', sessionId=1340, page='NextSong', level='free', phase=0, downgraded=0),\n",
       " Row(userId='30', sessionId=1340, page='NextSong', level='free', phase=0, downgraded=0),\n",
       " Row(userId='30', sessionId=1340, page='NextSong', level='free', phase=0, downgraded=0),\n",
       " Row(userId='30', sessionId=1340, page='NextSong', level='free', phase=0, downgraded=0),\n",
       " Row(userId='30', sessionId=1340, page='NextSong', level='free', phase=0, downgraded=0),\n",
       " Row(userId='30', sessionId=1340, page='NextSong', level='free', phase=0, downgraded=0),\n",
       " Row(userId='30', sessionId=1340, page='NextSong', level='free', phase=0, downgraded=0),\n",
       " Row(userId='30', sessionId=1340, page='NextSong', level='free', phase=0, downgraded=0),\n",
       " Row(userId='30', sessionId=1340, page='NextSong', level='free', phase=0, downgraded=0),\n",
       " Row(userId='30', sessionId=1340, page='NextSong', level='free', phase=0, downgraded=0),\n",
       " Row(userId='30', sessionId=1340, page='NextSong', level='free', phase=0, downgraded=0),\n",
       " Row(userId='30', sessionId=1340, page='NextSong', level='free', phase=0, downgraded=0),\n",
       " Row(userId='30', sessionId=1340, page='NextSong', level='free', phase=0, downgraded=0),\n",
       " Row(userId='30', sessionId=1340, page='NextSong', level='free', phase=0, downgraded=0),\n",
       " Row(userId='30', sessionId=1340, page='NextSong', level='free', phase=0, downgraded=0),\n",
       " Row(userId='30', sessionId=1340, page='NextSong', level='free', phase=0, downgraded=0),\n",
       " Row(userId='30', sessionId=1340, page='NextSong', level='free', phase=0, downgraded=0),\n",
       " Row(userId='30', sessionId=1340, page='Thumbs Up', level='free', phase=0, downgraded=0),\n",
       " Row(userId='30', sessionId=1340, page='NextSong', level='free', phase=0, downgraded=0),\n",
       " Row(userId='30', sessionId=1340, page='NextSong', level='free', phase=0, downgraded=0),\n",
       " Row(userId='30', sessionId=1340, page='Home', level='free', phase=0, downgraded=0),\n",
       " Row(userId='30', sessionId=1340, page='NextSong', level='free', phase=0, downgraded=0),\n",
       " Row(userId='30', sessionId=1340, page='NextSong', level='free', phase=0, downgraded=0),\n",
       " Row(userId='30', sessionId=1340, page='NextSong', level='free', phase=0, downgraded=0),\n",
       " Row(userId='30', sessionId=1340, page='NextSong', level='free', phase=0, downgraded=0),\n",
       " Row(userId='30', sessionId=1340, page='Thumbs Up', level='free', phase=0, downgraded=0),\n",
       " Row(userId='30', sessionId=1340, page='NextSong', level='free', phase=0, downgraded=0),\n",
       " Row(userId='30', sessionId=1340, page='NextSong', level='free', phase=0, downgraded=0),\n",
       " Row(userId='30', sessionId=1340, page='NextSong', level='free', phase=0, downgraded=0),\n",
       " Row(userId='30', sessionId=1340, page='About', level='free', phase=0, downgraded=0),\n",
       " Row(userId='30', sessionId=1340, page='Add Friend', level='free', phase=0, downgraded=0),\n",
       " Row(userId='30', sessionId=1340, page='Upgrade', level='free', phase=0, downgraded=0),\n",
       " Row(userId='30', sessionId=1340, page='NextSong', level='free', phase=0, downgraded=0),\n",
       " Row(userId='30', sessionId=1340, page='NextSong', level='free', phase=0, downgraded=0),\n",
       " Row(userId='30', sessionId=1340, page='NextSong', level='free', phase=0, downgraded=0),\n",
       " Row(userId='30', sessionId=1340, page='NextSong', level='free', phase=0, downgraded=0),\n",
       " Row(userId='30', sessionId=1340, page='NextSong', level='free', phase=0, downgraded=0),\n",
       " Row(userId='30', sessionId=1340, page='NextSong', level='free', phase=0, downgraded=0),\n",
       " Row(userId='30', sessionId=1340, page='Roll Advert', level='free', phase=0, downgraded=0),\n",
       " Row(userId='30', sessionId=1340, page='NextSong', level='free', phase=0, downgraded=0),\n",
       " Row(userId='30', sessionId=1340, page='Roll Advert', level='free', phase=0, downgraded=0),\n",
       " Row(userId='30', sessionId=1340, page='NextSong', level='free', phase=0, downgraded=0),\n",
       " Row(userId='30', sessionId=1340, page='NextSong', level='free', phase=0, downgraded=0),\n",
       " Row(userId='30', sessionId=1340, page='NextSong', level='free', phase=0, downgraded=0),\n",
       " Row(userId='30', sessionId=1340, page='NextSong', level='free', phase=0, downgraded=0),\n",
       " Row(userId='30', sessionId=1340, page='NextSong', level='free', phase=0, downgraded=0),\n",
       " Row(userId='30', sessionId=1340, page='Home', level='free', phase=0, downgraded=0),\n",
       " Row(userId='30', sessionId=1340, page='Logout', level='free', phase=0, downgraded=0),\n",
       " Row(userId='30', sessionId=1340, page='NextSong', level='free', phase=0, downgraded=0),\n",
       " Row(userId='30', sessionId=1340, page='NextSong', level='free', phase=0, downgraded=0),\n",
       " Row(userId='30', sessionId=1340, page='NextSong', level='free', phase=0, downgraded=0),\n",
       " Row(userId='30', sessionId=1340, page='NextSong', level='free', phase=0, downgraded=0),\n",
       " Row(userId='30', sessionId=1340, page='NextSong', level='free', phase=0, downgraded=0),\n",
       " Row(userId='30', sessionId=1340, page='Add to Playlist', level='free', phase=0, downgraded=0),\n",
       " Row(userId='30', sessionId=1340, page='Thumbs Up', level='free', phase=0, downgraded=0),\n",
       " Row(userId='30', sessionId=1340, page='NextSong', level='free', phase=0, downgraded=0),\n",
       " Row(userId='30', sessionId=1340, page='NextSong', level='free', phase=0, downgraded=0),\n",
       " Row(userId='30', sessionId=1340, page='NextSong', level='free', phase=0, downgraded=0),\n",
       " Row(userId='30', sessionId=1340, page='NextSong', level='free', phase=0, downgraded=0),\n",
       " Row(userId='30', sessionId=1340, page='Roll Advert', level='free', phase=0, downgraded=0),\n",
       " Row(userId='30', sessionId=1340, page='NextSong', level='free', phase=0, downgraded=0),\n",
       " Row(userId='30', sessionId=1477, page='NextSong', level='free', phase=0, downgraded=0),\n",
       " Row(userId='30', sessionId=1477, page='NextSong', level='free', phase=0, downgraded=0),\n",
       " Row(userId='30', sessionId=1477, page='NextSong', level='free', phase=0, downgraded=0),\n",
       " Row(userId='30', sessionId=1477, page='NextSong', level='free', phase=0, downgraded=0),\n",
       " Row(userId='30', sessionId=1477, page='NextSong', level='free', phase=0, downgraded=0),\n",
       " Row(userId='30', sessionId=1477, page='NextSong', level='free', phase=0, downgraded=0),\n",
       " Row(userId='30', sessionId=1477, page='NextSong', level='free', phase=0, downgraded=0),\n",
       " Row(userId='30', sessionId=1477, page='NextSong', level='free', phase=0, downgraded=0),\n",
       " Row(userId='30', sessionId=1477, page='NextSong', level='free', phase=0, downgraded=0),\n",
       " Row(userId='30', sessionId=1477, page='NextSong', level='free', phase=0, downgraded=0),\n",
       " Row(userId='30', sessionId=1477, page='Add to Playlist', level='free', phase=0, downgraded=0),\n",
       " Row(userId='30', sessionId=1477, page='Thumbs Up', level='free', phase=0, downgraded=0),\n",
       " Row(userId='30', sessionId=1477, page='NextSong', level='free', phase=0, downgraded=0),\n",
       " Row(userId='30', sessionId=1477, page='NextSong', level='free', phase=0, downgraded=0),\n",
       " Row(userId='30', sessionId=1477, page='NextSong', level='free', phase=0, downgraded=0),\n",
       " Row(userId='30', sessionId=1477, page='Home', level='free', phase=0, downgraded=0),\n",
       " Row(userId='30', sessionId=1477, page='NextSong', level='free', phase=0, downgraded=0),\n",
       " Row(userId='30', sessionId=1477, page='NextSong', level='free', phase=0, downgraded=0),\n",
       " Row(userId='30', sessionId=1477, page='NextSong', level='free', phase=0, downgraded=0),\n",
       " Row(userId='30', sessionId=1477, page='NextSong', level='free', phase=0, downgraded=0),\n",
       " Row(userId='30', sessionId=1477, page='NextSong', level='free', phase=0, downgraded=0),\n",
       " Row(userId='30', sessionId=1477, page='NextSong', level='free', phase=0, downgraded=0),\n",
       " Row(userId='30', sessionId=1477, page='NextSong', level='free', phase=0, downgraded=0),\n",
       " Row(userId='30', sessionId=1477, page='NextSong', level='free', phase=0, downgraded=0),\n",
       " Row(userId='30', sessionId=1477, page='NextSong', level='free', phase=0, downgraded=0),\n",
       " Row(userId='30', sessionId=1477, page='Roll Advert', level='free', phase=0, downgraded=0),\n",
       " Row(userId='30', sessionId=1477, page='NextSong', level='free', phase=0, downgraded=0),\n",
       " Row(userId='30', sessionId=1477, page='NextSong', level='free', phase=0, downgraded=0),\n",
       " Row(userId='30', sessionId=1477, page='Add to Playlist', level='free', phase=0, downgraded=0),\n",
       " Row(userId='30', sessionId=1477, page='NextSong', level='free', phase=0, downgraded=0),\n",
       " Row(userId='30', sessionId=1477, page='NextSong', level='free', phase=0, downgraded=0),\n",
       " Row(userId='30', sessionId=1477, page='Add Friend', level='free', phase=0, downgraded=0),\n",
       " Row(userId='30', sessionId=1477, page='NextSong', level='free', phase=0, downgraded=0),\n",
       " Row(userId='30', sessionId=1477, page='NextSong', level='free', phase=0, downgraded=0),\n",
       " Row(userId='30', sessionId=1477, page='Roll Advert', level='free', phase=0, downgraded=0),\n",
       " Row(userId='30', sessionId=1477, page='NextSong', level='free', phase=0, downgraded=0),\n",
       " Row(userId='30', sessionId=1477, page='Thumbs Up', level='free', phase=0, downgraded=0),\n",
       " Row(userId='30', sessionId=1477, page='NextSong', level='free', phase=0, downgraded=0),\n",
       " Row(userId='30', sessionId=1477, page='NextSong', level='free', phase=0, downgraded=0),\n",
       " Row(userId='30', sessionId=1477, page='NextSong', level='free', phase=0, downgraded=0),\n",
       " Row(userId='30', sessionId=1477, page='NextSong', level='free', phase=0, downgraded=0),\n",
       " Row(userId='30', sessionId=1477, page='NextSong', level='free', phase=0, downgraded=0),\n",
       " Row(userId='30', sessionId=1477, page='Home', level='free', phase=0, downgraded=0),\n",
       " Row(userId='30', sessionId=1477, page='Help', level='free', phase=0, downgraded=0),\n",
       " Row(userId='30', sessionId=1477, page='NextSong', level='free', phase=0, downgraded=0),\n",
       " Row(userId='30', sessionId=1477, page='NextSong', level='free', phase=0, downgraded=0),\n",
       " Row(userId='30', sessionId=1477, page='Roll Advert', level='free', phase=0, downgraded=0),\n",
       " Row(userId='30', sessionId=1477, page='NextSong', level='free', phase=0, downgraded=0),\n",
       " Row(userId='30', sessionId=1477, page='Thumbs Up', level='free', phase=0, downgraded=0),\n",
       " Row(userId='30', sessionId=1477, page='NextSong', level='free', phase=0, downgraded=0),\n",
       " Row(userId='30', sessionId=1477, page='Upgrade', level='free', phase=0, downgraded=0),\n",
       " Row(userId='30', sessionId=1477, page='Upgrade', level='free', phase=0, downgraded=0),\n",
       " Row(userId='30', sessionId=1477, page='NextSong', level='free', phase=0, downgraded=0),\n",
       " Row(userId='30', sessionId=1477, page='NextSong', level='free', phase=0, downgraded=0),\n",
       " Row(userId='30', sessionId=1477, page='NextSong', level='free', phase=0, downgraded=0),\n",
       " Row(userId='30', sessionId=1477, page='NextSong', level='free', phase=0, downgraded=0),\n",
       " Row(userId='30', sessionId=1477, page='NextSong', level='free', phase=0, downgraded=0),\n",
       " Row(userId='30', sessionId=1477, page='NextSong', level='free', phase=0, downgraded=0),\n",
       " Row(userId='30', sessionId=1477, page='NextSong', level='free', phase=0, downgraded=0),\n",
       " Row(userId='30', sessionId=1477, page='NextSong', level='free', phase=0, downgraded=0),\n",
       " Row(userId='30', sessionId=1477, page='Settings', level='free', phase=0, downgraded=0),\n",
       " Row(userId='30', sessionId=1477, page='NextSong', level='free', phase=0, downgraded=0),\n",
       " Row(userId='30', sessionId=1477, page='Home', level='free', phase=0, downgraded=0),\n",
       " Row(userId='30', sessionId=1477, page='Logout', level='free', phase=0, downgraded=0),\n",
       " Row(userId='30', sessionId=1477, page='NextSong', level='free', phase=0, downgraded=0),\n",
       " Row(userId='30', sessionId=1477, page='Roll Advert', level='free', phase=0, downgraded=0),\n",
       " Row(userId='30', sessionId=1477, page='NextSong', level='free', phase=0, downgraded=0),\n",
       " Row(userId='30', sessionId=1477, page='NextSong', level='free', phase=0, downgraded=0),\n",
       " Row(userId='30', sessionId=1477, page='NextSong', level='free', phase=0, downgraded=0),\n",
       " Row(userId='30', sessionId=1477, page='NextSong', level='free', phase=0, downgraded=0),\n",
       " Row(userId='30', sessionId=1477, page='NextSong', level='free', phase=0, downgraded=0),\n",
       " Row(userId='30', sessionId=1477, page='NextSong', level='free', phase=0, downgraded=0),\n",
       " Row(userId='30', sessionId=1477, page='NextSong', level='free', phase=0, downgraded=0),\n",
       " Row(userId='30', sessionId=1477, page='NextSong', level='free', phase=0, downgraded=0),\n",
       " Row(userId='30', sessionId=1477, page='NextSong', level='free', phase=0, downgraded=0),\n",
       " Row(userId='30', sessionId=1477, page='NextSong', level='free', phase=0, downgraded=0),\n",
       " Row(userId='30', sessionId=1477, page='NextSong', level='free', phase=0, downgraded=0),\n",
       " Row(userId='30', sessionId=1477, page='NextSong', level='free', phase=0, downgraded=0),\n",
       " Row(userId='30', sessionId=1477, page='NextSong', level='free', phase=0, downgraded=0),\n",
       " Row(userId='30', sessionId=1496, page='Roll Advert', level='free', phase=0, downgraded=0),\n",
       " Row(userId='30', sessionId=1496, page='NextSong', level='free', phase=0, downgraded=0),\n",
       " Row(userId='30', sessionId=1496, page='Upgrade', level='free', phase=0, downgraded=0),\n",
       " Row(userId='30', sessionId=1496, page='NextSong', level='free', phase=0, downgraded=0),\n",
       " Row(userId='30', sessionId=1496, page='NextSong', level='free', phase=0, downgraded=0),\n",
       " Row(userId='30', sessionId=1496, page='NextSong', level='free', phase=0, downgraded=0),\n",
       " Row(userId='30', sessionId=1496, page='NextSong', level='free', phase=0, downgraded=0),\n",
       " Row(userId='30', sessionId=1496, page='NextSong', level='free', phase=0, downgraded=0),\n",
       " Row(userId='30', sessionId=1496, page='NextSong', level='free', phase=0, downgraded=0),\n",
       " Row(userId='30', sessionId=1496, page='NextSong', level='free', phase=0, downgraded=0),\n",
       " Row(userId='30', sessionId=1496, page='NextSong', level='free', phase=0, downgraded=0),\n",
       " Row(userId='30', sessionId=1496, page='NextSong', level='free', phase=0, downgraded=0),\n",
       " Row(userId='30', sessionId=1496, page='NextSong', level='free', phase=0, downgraded=0),\n",
       " Row(userId='30', sessionId=1496, page='NextSong', level='free', phase=0, downgraded=0),\n",
       " Row(userId='30', sessionId=1496, page='Home', level='free', phase=0, downgraded=0),\n",
       " Row(userId='30', sessionId=1496, page='NextSong', level='free', phase=0, downgraded=0),\n",
       " Row(userId='30', sessionId=1496, page='NextSong', level='free', phase=0, downgraded=0),\n",
       " Row(userId='30', sessionId=1496, page='NextSong', level='free', phase=0, downgraded=0),\n",
       " Row(userId='30', sessionId=1496, page='NextSong', level='free', phase=0, downgraded=0),\n",
       " Row(userId='30', sessionId=1496, page='NextSong', level='free', phase=0, downgraded=0),\n",
       " Row(userId='30', sessionId=1496, page='Add to Playlist', level='free', phase=0, downgraded=0),\n",
       " Row(userId='30', sessionId=1496, page='NextSong', level='free', phase=0, downgraded=0),\n",
       " Row(userId='30', sessionId=1496, page='NextSong', level='free', phase=0, downgraded=0),\n",
       " Row(userId='30', sessionId=1496, page='NextSong', level='free', phase=0, downgraded=0),\n",
       " Row(userId='30', sessionId=1496, page='NextSong', level='free', phase=0, downgraded=0),\n",
       " Row(userId='30', sessionId=1496, page='Thumbs Up', level='free', phase=0, downgraded=0),\n",
       " Row(userId='30', sessionId=1496, page='NextSong', level='free', phase=0, downgraded=0),\n",
       " Row(userId='30', sessionId=1496, page='NextSong', level='free', phase=0, downgraded=0),\n",
       " Row(userId='30', sessionId=1496, page='NextSong', level='free', phase=0, downgraded=0),\n",
       " Row(userId='30', sessionId=1496, page='NextSong', level='free', phase=0, downgraded=0),\n",
       " Row(userId='30', sessionId=1496, page='NextSong', level='free', phase=0, downgraded=0),\n",
       " Row(userId='30', sessionId=1554, page='NextSong', level='free', phase=0, downgraded=0),\n",
       " Row(userId='30', sessionId=1554, page='Roll Advert', level='free', phase=0, downgraded=0),\n",
       " Row(userId='30', sessionId=1554, page='NextSong', level='free', phase=0, downgraded=0),\n",
       " Row(userId='30', sessionId=1554, page='NextSong', level='free', phase=0, downgraded=0),\n",
       " Row(userId='30', sessionId=1554, page='NextSong', level='free', phase=0, downgraded=0),\n",
       " Row(userId='30', sessionId=1554, page='Roll Advert', level='free', phase=0, downgraded=0),\n",
       " Row(userId='30', sessionId=1554, page='NextSong', level='free', phase=0, downgraded=0),\n",
       " Row(userId='30', sessionId=1554, page='NextSong', level='free', phase=0, downgraded=0),\n",
       " Row(userId='30', sessionId=1554, page='NextSong', level='free', phase=0, downgraded=0),\n",
       " Row(userId='30', sessionId=1554, page='NextSong', level='free', phase=0, downgraded=0),\n",
       " Row(userId='30', sessionId=1554, page='NextSong', level='free', phase=0, downgraded=0),\n",
       " Row(userId='30', sessionId=1554, page='Upgrade', level='free', phase=0, downgraded=0),\n",
       " Row(userId='30', sessionId=1554, page='NextSong', level='free', phase=0, downgraded=0),\n",
       " Row(userId='30', sessionId=1554, page='Thumbs Up', level='free', phase=0, downgraded=0),\n",
       " Row(userId='30', sessionId=1554, page='NextSong', level='free', phase=0, downgraded=0),\n",
       " Row(userId='30', sessionId=1554, page='Home', level='free', phase=0, downgraded=0),\n",
       " Row(userId='30', sessionId=1554, page='Logout', level='free', phase=0, downgraded=0),\n",
       " Row(userId='30', sessionId=1554, page='NextSong', level='free', phase=0, downgraded=0),\n",
       " Row(userId='30', sessionId=1554, page='About', level='free', phase=0, downgraded=0),\n",
       " Row(userId='30', sessionId=1554, page='NextSong', level='free', phase=0, downgraded=0),\n",
       " Row(userId='30', sessionId=1554, page='NextSong', level='free', phase=0, downgraded=0),\n",
       " Row(userId='30', sessionId=1554, page='NextSong', level='free', phase=0, downgraded=0),\n",
       " Row(userId='30', sessionId=1554, page='NextSong', level='free', phase=0, downgraded=0),\n",
       " Row(userId='30', sessionId=1554, page='NextSong', level='free', phase=0, downgraded=0),\n",
       " Row(userId='30', sessionId=1554, page='NextSong', level='free', phase=0, downgraded=0),\n",
       " Row(userId='30', sessionId=1554, page='NextSong', level='free', phase=0, downgraded=0),\n",
       " Row(userId='30', sessionId=1554, page='NextSong', level='free', phase=0, downgraded=0),\n",
       " Row(userId='30', sessionId=1554, page='NextSong', level='free', phase=0, downgraded=0),\n",
       " Row(userId='30', sessionId=1554, page='NextSong', level='free', phase=0, downgraded=0),\n",
       " Row(userId='30', sessionId=1554, page='NextSong', level='free', phase=0, downgraded=0),\n",
       " Row(userId='30', sessionId=1554, page='NextSong', level='free', phase=0, downgraded=0),\n",
       " Row(userId='30', sessionId=1554, page='NextSong', level='free', phase=0, downgraded=0),\n",
       " Row(userId='30', sessionId=1554, page='NextSong', level='free', phase=0, downgraded=0),\n",
       " Row(userId='30', sessionId=1554, page='NextSong', level='free', phase=0, downgraded=0),\n",
       " Row(userId='30', sessionId=1554, page='NextSong', level='free', phase=0, downgraded=0),\n",
       " Row(userId='30', sessionId=1554, page='NextSong', level='free', phase=0, downgraded=0),\n",
       " Row(userId='30', sessionId=1554, page='NextSong', level='free', phase=0, downgraded=0),\n",
       " Row(userId='30', sessionId=1554, page='NextSong', level='free', phase=0, downgraded=0),\n",
       " Row(userId='30', sessionId=1554, page='NextSong', level='free', phase=0, downgraded=0),\n",
       " Row(userId='30', sessionId=1554, page='Thumbs Up', level='free', phase=0, downgraded=0),\n",
       " Row(userId='30', sessionId=1554, page='NextSong', level='free', phase=0, downgraded=0),\n",
       " Row(userId='30', sessionId=1554, page='NextSong', level='free', phase=0, downgraded=0),\n",
       " Row(userId='30', sessionId=1554, page='NextSong', level='free', phase=0, downgraded=0),\n",
       " Row(userId='30', sessionId=1554, page='NextSong', level='free', phase=0, downgraded=0),\n",
       " Row(userId='30', sessionId=1554, page='NextSong', level='free', phase=0, downgraded=0),\n",
       " Row(userId='30', sessionId=1554, page='Roll Advert', level='free', phase=0, downgraded=0),\n",
       " Row(userId='30', sessionId=1554, page='NextSong', level='free', phase=0, downgraded=0),\n",
       " Row(userId='30', sessionId=1554, page='NextSong', level='free', phase=0, downgraded=0),\n",
       " Row(userId='30', sessionId=1554, page='NextSong', level='free', phase=0, downgraded=0),\n",
       " Row(userId='30', sessionId=1554, page='NextSong', level='free', phase=0, downgraded=0),\n",
       " Row(userId='30', sessionId=1554, page='Add to Playlist', level='free', phase=0, downgraded=0),\n",
       " Row(userId='30', sessionId=1554, page='NextSong', level='free', phase=0, downgraded=0),\n",
       " Row(userId='30', sessionId=1554, page='NextSong', level='free', phase=0, downgraded=0),\n",
       " Row(userId='30', sessionId=1554, page='NextSong', level='free', phase=0, downgraded=0),\n",
       " Row(userId='30', sessionId=1554, page='NextSong', level='free', phase=0, downgraded=0),\n",
       " Row(userId='30', sessionId=1554, page='NextSong', level='free', phase=0, downgraded=0),\n",
       " Row(userId='30', sessionId=1554, page='Thumbs Down', level='free', phase=0, downgraded=0),\n",
       " Row(userId='30', sessionId=1554, page='NextSong', level='free', phase=0, downgraded=0),\n",
       " Row(userId='30', sessionId=1554, page='NextSong', level='free', phase=0, downgraded=0),\n",
       " Row(userId='30', sessionId=1554, page='NextSong', level='free', phase=0, downgraded=0),\n",
       " Row(userId='30', sessionId=1554, page='NextSong', level='free', phase=0, downgraded=0),\n",
       " Row(userId='30', sessionId=1554, page='NextSong', level='free', phase=0, downgraded=0),\n",
       " Row(userId='30', sessionId=1554, page='NextSong', level='free', phase=0, downgraded=0),\n",
       " Row(userId='30', sessionId=1554, page='Home', level='free', phase=0, downgraded=0),\n",
       " Row(userId='30', sessionId=1554, page='Logout', level='free', phase=0, downgraded=0),\n",
       " Row(userId='30', sessionId=1554, page='NextSong', level='free', phase=0, downgraded=0),\n",
       " Row(userId='30', sessionId=1554, page='NextSong', level='free', phase=0, downgraded=0),\n",
       " Row(userId='30', sessionId=1554, page='Roll Advert', level='free', phase=0, downgraded=0),\n",
       " Row(userId='30', sessionId=1554, page='NextSong', level='free', phase=0, downgraded=0),\n",
       " Row(userId='30', sessionId=1554, page='NextSong', level='free', phase=0, downgraded=0),\n",
       " Row(userId='30', sessionId=1554, page='Roll Advert', level='free', phase=0, downgraded=0),\n",
       " Row(userId='30', sessionId=1554, page='NextSong', level='free', phase=0, downgraded=0),\n",
       " Row(userId='30', sessionId=1554, page='Upgrade', level='free', phase=0, downgraded=0),\n",
       " Row(userId='30', sessionId=1554, page='NextSong', level='free', phase=0, downgraded=0),\n",
       " Row(userId='30', sessionId=1554, page='NextSong', level='free', phase=0, downgraded=0),\n",
       " Row(userId='30', sessionId=1554, page='Add Friend', level='free', phase=0, downgraded=0),\n",
       " Row(userId='30', sessionId=1554, page='NextSong', level='free', phase=0, downgraded=0),\n",
       " Row(userId='30', sessionId=1554, page='NextSong', level='free', phase=0, downgraded=0),\n",
       " Row(userId='30', sessionId=1554, page='NextSong', level='free', phase=0, downgraded=0),\n",
       " Row(userId='30', sessionId=1554, page='NextSong', level='free', phase=0, downgraded=0),\n",
       " Row(userId='30', sessionId=1554, page='NextSong', level='free', phase=0, downgraded=0),\n",
       " Row(userId='30', sessionId=1554, page='NextSong', level='free', phase=0, downgraded=0),\n",
       " Row(userId='30', sessionId=1554, page='Home', level='free', phase=0, downgraded=0),\n",
       " Row(userId='30', sessionId=1554, page='NextSong', level='free', phase=0, downgraded=0),\n",
       " Row(userId='30', sessionId=1554, page='NextSong', level='free', phase=0, downgraded=0),\n",
       " Row(userId='30', sessionId=1554, page='NextSong', level='free', phase=0, downgraded=0),\n",
       " Row(userId='30', sessionId=1554, page='Add to Playlist', level='free', phase=0, downgraded=0),\n",
       " Row(userId='30', sessionId=1554, page='NextSong', level='free', phase=0, downgraded=0),\n",
       " Row(userId='30', sessionId=1554, page='Home', level='free', phase=0, downgraded=0),\n",
       " Row(userId='30', sessionId=1554, page='NextSong', level='free', phase=0, downgraded=0),\n",
       " Row(userId='30', sessionId=1554, page='NextSong', level='free', phase=0, downgraded=0),\n",
       " Row(userId='30', sessionId=1554, page='Add Friend', level='free', phase=0, downgraded=0),\n",
       " Row(userId='30', sessionId=1554, page='Add Friend', level='free', phase=0, downgraded=0),\n",
       " Row(userId='30', sessionId=1554, page='Home', level='free', phase=0, downgraded=0),\n",
       " Row(userId='30', sessionId=1554, page='NextSong', level='free', phase=0, downgraded=0),\n",
       " Row(userId='30', sessionId=1554, page='NextSong', level='free', phase=0, downgraded=0),\n",
       " Row(userId='30', sessionId=1554, page='NextSong', level='free', phase=0, downgraded=0),\n",
       " Row(userId='30', sessionId=1574, page='NextSong', level='free', phase=0, downgraded=0),\n",
       " Row(userId='30', sessionId=1574, page='Thumbs Up', level='free', phase=0, downgraded=0),\n",
       " Row(userId='30', sessionId=1574, page='NextSong', level='free', phase=0, downgraded=0),\n",
       " Row(userId='30', sessionId=1574, page='NextSong', level='free', phase=0, downgraded=0),\n",
       " Row(userId='30', sessionId=1574, page='NextSong', level='free', phase=0, downgraded=0),\n",
       " Row(userId='30', sessionId=1574, page='Thumbs Up', level='free', phase=0, downgraded=0),\n",
       " Row(userId='30', sessionId=1574, page='NextSong', level='free', phase=0, downgraded=0),\n",
       " Row(userId='30', sessionId=1574, page='Add Friend', level='free', phase=0, downgraded=0),\n",
       " Row(userId='30', sessionId=1574, page='Home', level='free', phase=0, downgraded=0),\n",
       " Row(userId='30', sessionId=1574, page='NextSong', level='free', phase=0, downgraded=0),\n",
       " Row(userId='30', sessionId=1574, page='NextSong', level='free', phase=0, downgraded=0),\n",
       " Row(userId='30', sessionId=1574, page='NextSong', level='free', phase=0, downgraded=0),\n",
       " Row(userId='30', sessionId=1574, page='Add to Playlist', level='free', phase=0, downgraded=0),\n",
       " Row(userId='30', sessionId=1574, page='NextSong', level='free', phase=0, downgraded=0),\n",
       " Row(userId='30', sessionId=1574, page='NextSong', level='free', phase=0, downgraded=0),\n",
       " Row(userId='30', sessionId=1574, page='NextSong', level='free', phase=0, downgraded=0),\n",
       " Row(userId='30', sessionId=1574, page='NextSong', level='free', phase=0, downgraded=0),\n",
       " Row(userId='30', sessionId=1574, page='NextSong', level='free', phase=0, downgraded=0),\n",
       " Row(userId='30', sessionId=1574, page='NextSong', level='free', phase=0, downgraded=0),\n",
       " Row(userId='30', sessionId=1574, page='NextSong', level='free', phase=0, downgraded=0),\n",
       " Row(userId='30', sessionId=1574, page='NextSong', level='free', phase=0, downgraded=0),\n",
       " Row(userId='30', sessionId=1574, page='NextSong', level='free', phase=0, downgraded=0),\n",
       " Row(userId='30', sessionId=1574, page='NextSong', level='free', phase=0, downgraded=0),\n",
       " Row(userId='30', sessionId=1574, page='NextSong', level='free', phase=0, downgraded=0),\n",
       " Row(userId='30', sessionId=1574, page='NextSong', level='free', phase=0, downgraded=0),\n",
       " Row(userId='30', sessionId=1574, page='NextSong', level='free', phase=0, downgraded=0),\n",
       " Row(userId='30', sessionId=1574, page='Roll Advert', level='free', phase=0, downgraded=0),\n",
       " Row(userId='30', sessionId=1574, page='NextSong', level='free', phase=0, downgraded=0),\n",
       " Row(userId='30', sessionId=1574, page='NextSong', level='free', phase=0, downgraded=0),\n",
       " Row(userId='30', sessionId=1574, page='Home', level='free', phase=0, downgraded=0),\n",
       " Row(userId='30', sessionId=1574, page='NextSong', level='free', phase=0, downgraded=0),\n",
       " Row(userId='30', sessionId=1574, page='NextSong', level='free', phase=0, downgraded=0),\n",
       " Row(userId='30', sessionId=1574, page='NextSong', level='free', phase=0, downgraded=0),\n",
       " Row(userId='30', sessionId=1574, page='Roll Advert', level='free', phase=0, downgraded=0),\n",
       " Row(userId='30', sessionId=1574, page='NextSong', level='free', phase=0, downgraded=0),\n",
       " Row(userId='30', sessionId=1607, page='Roll Advert', level='free', phase=0, downgraded=0),\n",
       " Row(userId='30', sessionId=1607, page='NextSong', level='free', phase=0, downgraded=0),\n",
       " Row(userId='30', sessionId=1607, page='Roll Advert', level='free', phase=0, downgraded=0),\n",
       " Row(userId='30', sessionId=1607, page='NextSong', level='free', phase=0, downgraded=0),\n",
       " Row(userId='30', sessionId=1607, page='NextSong', level='free', phase=0, downgraded=0),\n",
       " Row(userId='30', sessionId=1607, page='NextSong', level='free', phase=0, downgraded=0),\n",
       " Row(userId='30', sessionId=1607, page='NextSong', level='free', phase=0, downgraded=0),\n",
       " Row(userId='30', sessionId=1607, page='NextSong', level='free', phase=0, downgraded=0),\n",
       " Row(userId='30', sessionId=1607, page='NextSong', level='free', phase=0, downgraded=0),\n",
       " Row(userId='30', sessionId=1607, page='Home', level='free', phase=0, downgraded=0),\n",
       " Row(userId='30', sessionId=1607, page='Logout', level='free', phase=0, downgraded=0),\n",
       " Row(userId='30', sessionId=1607, page='NextSong', level='free', phase=0, downgraded=0),\n",
       " Row(userId='30', sessionId=1607, page='Upgrade', level='free', phase=0, downgraded=0),\n",
       " Row(userId='30', sessionId=1607, page='NextSong', level='free', phase=0, downgraded=0),\n",
       " Row(userId='30', sessionId=1607, page='NextSong', level='free', phase=0, downgraded=0),\n",
       " Row(userId='30', sessionId=1607, page='Roll Advert', level='free', phase=0, downgraded=0),\n",
       " Row(userId='30', sessionId=1607, page='Roll Advert', level='free', phase=0, downgraded=0),\n",
       " Row(userId='30', sessionId=1607, page='NextSong', level='free', phase=0, downgraded=0),\n",
       " Row(userId='30', sessionId=1607, page='NextSong', level='free', phase=0, downgraded=0),\n",
       " Row(userId='30', sessionId=1607, page='NextSong', level='free', phase=0, downgraded=0),\n",
       " Row(userId='30', sessionId=1607, page='NextSong', level='free', phase=0, downgraded=0),\n",
       " Row(userId='30', sessionId=1607, page='Add to Playlist', level='free', phase=0, downgraded=0),\n",
       " Row(userId='30', sessionId=1607, page='NextSong', level='free', phase=0, downgraded=0),\n",
       " Row(userId='30', sessionId=1607, page='NextSong', level='free', phase=0, downgraded=0),\n",
       " Row(userId='30', sessionId=1607, page='NextSong', level='free', phase=0, downgraded=0),\n",
       " Row(userId='30', sessionId=1607, page='NextSong', level='free', phase=0, downgraded=0),\n",
       " Row(userId='30', sessionId=1607, page='NextSong', level='free', phase=0, downgraded=0),\n",
       " Row(userId='30', sessionId=1607, page='NextSong', level='free', phase=0, downgraded=0),\n",
       " Row(userId='30', sessionId=1628, page='NextSong', level='free', phase=0, downgraded=0),\n",
       " Row(userId='30', sessionId=1628, page='Thumbs Up', level='free', phase=0, downgraded=0),\n",
       " Row(userId='30', sessionId=1628, page='NextSong', level='free', phase=0, downgraded=0),\n",
       " Row(userId='30', sessionId=1628, page='NextSong', level='free', phase=0, downgraded=0),\n",
       " Row(userId='30', sessionId=1628, page='NextSong', level='free', phase=0, downgraded=0),\n",
       " Row(userId='30', sessionId=1628, page='NextSong', level='free', phase=0, downgraded=0),\n",
       " Row(userId='30', sessionId=1628, page='Thumbs Down', level='free', phase=0, downgraded=0),\n",
       " Row(userId='30', sessionId=1628, page='NextSong', level='free', phase=0, downgraded=0),\n",
       " Row(userId='30', sessionId=1632, page='Home', level='free', phase=0, downgraded=0),\n",
       " Row(userId='30', sessionId=1632, page='NextSong', level='free', phase=0, downgraded=0),\n",
       " Row(userId='30', sessionId=1632, page='Roll Advert', level='free', phase=0, downgraded=0),\n",
       " Row(userId='30', sessionId=1632, page='NextSong', level='free', phase=0, downgraded=0),\n",
       " Row(userId='30', sessionId=1632, page='NextSong', level='free', phase=0, downgraded=0),\n",
       " Row(userId='30', sessionId=1632, page='NextSong', level='free', phase=0, downgraded=0),\n",
       " Row(userId='30', sessionId=1632, page='NextSong', level='free', phase=0, downgraded=0),\n",
       " Row(userId='30', sessionId=1632, page='NextSong', level='free', phase=0, downgraded=0),\n",
       " ...]"
      ]
     },
     "execution_count": 18,
     "metadata": {},
     "output_type": "execute_result"
    }
   ],
   "source": [
    "# Example Results of windowing\n",
    "user_log_valid.select([\"userId\", \"sessionId\", \"page\", \"level\", \"phase\", \"downgraded\"]).where(user_log.userId == \"30\").sort(\"sessionId\").collect()"
   ]
  },
  {
   "cell_type": "code",
   "execution_count": 19,
   "metadata": {},
   "outputs": [
    {
     "data": {
      "text/plain": [
       "115"
      ]
     },
     "execution_count": 19,
     "metadata": {},
     "output_type": "execute_result"
    }
   ],
   "source": [
    "# Find how many accounts were downgraded in the data set\n",
    "user_log_valid.select(\"downgraded\").where(user_log_valid.downgraded==1).count()"
   ]
  },
  {
   "cell_type": "code",
   "execution_count": 20,
   "metadata": {},
   "outputs": [
    {
     "data": {
      "text/plain": [
       "339"
      ]
     },
     "execution_count": 20,
     "metadata": {},
     "output_type": "execute_result"
    }
   ],
   "source": [
    "# Find total number of user/phase combinations\n",
    "user_log_valid.select(\"userId\",\"phase\").dropDuplicates().count()"
   ]
  },
  {
   "cell_type": "code",
   "execution_count": 21,
   "metadata": {},
   "outputs": [
    {
     "data": {
      "text/plain": [
       "2312"
      ]
     },
     "execution_count": 21,
     "metadata": {},
     "output_type": "execute_result"
    }
   ],
   "source": [
    "# Find total number of sessions\n",
    "user_log_valid.select(\"sessionId\").dropDuplicates().count()"
   ]
  },
  {
   "cell_type": "markdown",
   "metadata": {},
   "source": [
    "# Feature Engineering\n",
    "Once you've familiarized yourself with the data, build out the features you find promising to train your model on. To work with the full dataset, you can follow the following steps.\n",
    "- Write a script to extract the necessary features from the smaller subset of data\n",
    "- Ensure that your script is scalable, using the best practices discussed in Lesson 3\n",
    "- Try your script on the full data set, debugging your script if necessary\n",
    "\n",
    "If you are working in the classroom workspace, you can just extract features based on the small subset of data contained here. Be sure to transfer over this work to the larger dataset when you work on your Spark cluster."
   ]
  },
  {
   "cell_type": "code",
   "execution_count": 22,
   "metadata": {},
   "outputs": [],
   "source": [
    "# Add feature for Gender\n",
    "# Function to flag gender\n",
    "flag_male = udf(lambda x: 1 if x == \"M\" else 0, IntegerType())\n",
    "flag_female = udf(lambda x: 1 if x == \"F\" else 0, IntegerType())\n",
    "\n",
    "# Add Gender feature to user log\n",
    "user_log_valid = user_log_valid.withColumn(\"Male\", flag_male(\"gender\"))\n",
    "user_log_valid = user_log_valid.withColumn(\"Female\", flag_female(\"gender\"))"
   ]
  },
  {
   "cell_type": "code",
   "execution_count": 23,
   "metadata": {},
   "outputs": [],
   "source": [
    "# Add feature for subscription level\n",
    "# Function to free or paid levels\n",
    "flag_paid = udf(lambda x: 1 if x == \"paid\" else 0, IntegerType())\n",
    "flag_free = udf(lambda x: 1 if x == \"free\" else 0, IntegerType())\n",
    "\n",
    "# Add Gender feature to user log\n",
    "user_log_valid = user_log_valid.withColumn(\"Paid\", flag_paid(\"level\"))\n",
    "user_log_valid = user_log_valid.withColumn(\"Free\", flag_free(\"level\"))"
   ]
  },
  {
   "cell_type": "code",
   "execution_count": 24,
   "metadata": {},
   "outputs": [
    {
     "data": {
      "text/plain": [
       "Row(artist=None, auth='Logged In', firstName='Darianna', gender='F', itemInSession=34, lastName='Carpenter', length=None, level='free', location='Bridgeport-Stamford-Norwalk, CT', method='PUT', page='Logout', registration=1538016340000, sessionId=187, song=None, status=307, ts=1542823952000, userAgent='\"Mozilla/5.0 (iPhone; CPU iPhone OS 7_1_2 like Mac OS X) AppleWebKit/537.51.2 (KHTML, like Gecko) Version/7.0 Mobile/11D257 Safari/9537.53\"', userId='100010', downgraded=0, phase=0, Male=0, Female=1, Paid=0, Free=1)"
      ]
     },
     "execution_count": 24,
     "metadata": {},
     "output_type": "execute_result"
    }
   ],
   "source": [
    "user_log_valid.head()"
   ]
  },
  {
   "cell_type": "code",
   "execution_count": 25,
   "metadata": {},
   "outputs": [],
   "source": [
    "# Make functions for flagging key page actions\n",
    "flag_thumbsdown_event = udf(lambda x: 1 if x == \"Thumbs Down\" else 0, IntegerType())\n",
    "flag_thumbsup_event = udf(lambda x: 1 if x == \"Thumbs Up\" else 0, IntegerType())\n",
    "flag_rolladvert_event = udf(lambda x: 1 if x == \"Roll Advert\" else 0, IntegerType())\n",
    "flag_settings_event = udf(lambda x: 1 if x == \"Settings\" else 0, IntegerType())\n",
    "flag_addtoplaylist_event = udf(lambda x: 1 if x == \"Add to Playlist\" else 0, IntegerType())\n",
    "flag_addfriend_event = udf(lambda x: 1 if x == \"Add Friend\" else 0, IntegerType())\n",
    "flag_help_event = udf(lambda x: 1 if x == \"Help\" else 0, IntegerType())\n",
    "flag_error_event = udf(lambda x: 1 if x == \"Error\" else 0, IntegerType())\n",
    "flag_song_event = udf(lambda x: 1 if x == \"NextSong\" else 0, IntegerType())"
   ]
  },
  {
   "cell_type": "code",
   "execution_count": 26,
   "metadata": {},
   "outputs": [],
   "source": [
    "# Add page event flags to the user log\n",
    "user_log_valid = user_log_valid.withColumn(\"thumbsdown\", flag_thumbsdown_event(\"page\"))\n",
    "user_log_valid = user_log_valid.withColumn(\"thumbsup\", flag_thumbsup_event(\"page\"))\n",
    "user_log_valid = user_log_valid.withColumn(\"advert\", flag_rolladvert_event(\"page\"))\n",
    "user_log_valid = user_log_valid.withColumn(\"settings\", flag_settings_event(\"page\"))\n",
    "user_log_valid = user_log_valid.withColumn(\"addtoplaylist\", flag_addtoplaylist_event(\"page\"))\n",
    "user_log_valid = user_log_valid.withColumn(\"friend\", flag_addfriend_event(\"page\"))\n",
    "user_log_valid = user_log_valid.withColumn(\"help\", flag_help_event(\"page\"))\n",
    "user_log_valid = user_log_valid.withColumn(\"error\", flag_error_event(\"page\"))\n",
    "user_log_valid = user_log_valid.withColumn(\"song\", flag_error_event(\"page\"))"
   ]
  },
  {
   "cell_type": "code",
   "execution_count": 27,
   "metadata": {},
   "outputs": [
    {
     "data": {
      "text/plain": [
       "Row(artist=None, auth='Logged In', firstName='Darianna', gender='F', itemInSession=34, lastName='Carpenter', length=None, level='free', location='Bridgeport-Stamford-Norwalk, CT', method='PUT', page='Logout', registration=1538016340000, sessionId=187, song=0, status=307, ts=1542823952000, userAgent='\"Mozilla/5.0 (iPhone; CPU iPhone OS 7_1_2 like Mac OS X) AppleWebKit/537.51.2 (KHTML, like Gecko) Version/7.0 Mobile/11D257 Safari/9537.53\"', userId='100010', downgraded=0, phase=0, Male=0, Female=1, Paid=0, Free=1, thumbsdown=0, thumbsup=0, advert=0, settings=0, addtoplaylist=0, friend=0, help=0, error=0)"
      ]
     },
     "execution_count": 27,
     "metadata": {},
     "output_type": "execute_result"
    }
   ],
   "source": [
    "user_log_valid.head()"
   ]
  },
  {
   "cell_type": "code",
   "execution_count": 28,
   "metadata": {},
   "outputs": [],
   "source": [
    "# First aggregation to find numbers of key page events using flags for each session\n",
    "agg1 = user_log_valid.groupBy('userId','sessionId').agg({'thumbsdown':'sum', 'thumbsup':'sum', 'advert':'sum', \n",
    "                                                     'settings':'sum', 'addtoplaylist':'sum', 'friend':'sum',\n",
    "                                                     'help':'sum', 'error':'sum', 'downgraded':'max', 'song':'sum',\n",
    "                                                     'Male':'max','Female':'max','Paid':'max','Free':'max',\n",
    "                                                     'phase':'max'})"
   ]
  },
  {
   "cell_type": "code",
   "execution_count": 29,
   "metadata": {},
   "outputs": [
    {
     "name": "stdout",
     "output_type": "stream",
     "text": [
      "+------+---------+---------------+---------+----------+---------------+\n",
      "|userId|sessionId|sum(thumbsdown)|max(Paid)|max(phase)|max(downgraded)|\n",
      "+------+---------+---------------+---------+----------+---------------+\n",
      "|   101|      635|              8|        1|         1|              0|\n",
      "|    29|     1030|              0|        1|         1|              0|\n",
      "|    42|      433|              0|        0|         0|              0|\n",
      "|     8|     1200|              1|        0|         0|              0|\n",
      "|    35|     2270|              0|        0|         0|              0|\n",
      "|   110|     1776|              0|        0|         0|              0|\n",
      "|    96|     1653|              3|        1|         1|              0|\n",
      "|   140|      798|              0|        0|         2|              0|\n",
      "|   120|      627|              2|        1|         0|              0|\n",
      "|300011|       60|              0|        1|         1|              0|\n",
      "|    92|      358|              0|        0|         1|              0|\n",
      "|   122|      691|              0|        0|         1|              0|\n",
      "|   153|     1794|              0|        1|         0|              0|\n",
      "|    97|     2019|              0|        1|         0|              0|\n",
      "|300017|      365|              0|        1|         0|              0|\n",
      "|    85|     1098|              0|        1|         1|              0|\n",
      "|    35|      544|              0|        0|         2|              0|\n",
      "|    47|       46|              0|        0|         0|              0|\n",
      "|    46|     2034|              1|        1|         0|              0|\n",
      "|    60|     2121|              1|        1|         0|              0|\n",
      "+------+---------+---------------+---------+----------+---------------+\n",
      "only showing top 20 rows\n",
      "\n"
     ]
    }
   ],
   "source": [
    "agg1.select('userId','sessionId','sum(thumbsdown)','max(Paid)','max(phase)', 'max(downgraded)').show()"
   ]
  },
  {
   "cell_type": "code",
   "execution_count": 30,
   "metadata": {},
   "outputs": [],
   "source": [
    "agg2 = agg1.groupBy('userId','max(phase)').agg({'sum(thumbsdown)':'avg', 'sum(thumbsup)':'avg', 'sum(advert)':'avg', \n",
    "                                                'sum(settings)':'avg', 'sum(addtoplaylist)':'avg', 'sum(friend)':'avg',\n",
    "                                                'sum(help)':'avg', 'sum(error)':'avg', 'sum(song)':'avg', 'max(Male)':'avg',\n",
    "                                                'max(Female)':'avg','max(Paid)':'avg','max(Free)':'avg','max(downgraded)':'max'})\n"
   ]
  },
  {
   "cell_type": "code",
   "execution_count": 31,
   "metadata": {},
   "outputs": [],
   "source": [
    "# Assemble vector with numerical features\n",
    "assembler = VectorAssembler(inputCols=[\"avg(sum(thumbsdown))\", \"avg(sum(thumbsup))\", \"avg(sum(advert))\", \"avg(sum(settings))\", \n",
    "                                       \"avg(sum(addtoplaylist))\",\"avg(sum(friend))\", \"avg(sum(help))\", \"avg(sum(error))\", \n",
    "                                       \"avg(sum(song))\", \"avg(max(Male))\", \"avg(max(Female))\", \"avg(max(Paid))\", \n",
    "                                       \"avg(max(Free))\"], outputCol=\"NumFeatures\")\n",
    "ML_df = assembler.transform(agg2)"
   ]
  },
  {
   "cell_type": "code",
   "execution_count": 32,
   "metadata": {},
   "outputs": [],
   "source": [
    "# Normalize features to ensure they are same scale (use mean/standard deviation)\n",
    "#scaler2 = StandardScaler(inputCol=\"NumFeatures\", outputCol=\"ScaledFeatures\",  withMean=True, withStd=True)\n",
    "#scalerModel = scaler2.fit(ML_df)\n",
    "#ML_df = scalerModel.transform(ML_df)"
   ]
  },
  {
   "cell_type": "code",
   "execution_count": 33,
   "metadata": {},
   "outputs": [],
   "source": [
    "# Use a standard scaler to normalize the feature data for the maximum values in the data set. \n",
    "# This ensures that feature values will stay positive, making them easier to understand.\n",
    "scaler = Normalizer(inputCol=\"NumFeatures\", outputCol=\"ScaledFeatures\")\n",
    "ML_df = scaler.transform(ML_df)"
   ]
  },
  {
   "cell_type": "code",
   "execution_count": 34,
   "metadata": {},
   "outputs": [
    {
     "data": {
      "text/plain": [
       "[Row(userId='149', max(phase)=0, avg(sum(thumbsup))=3.6666666666666665, avg(sum(help))=0.3333333333333333, avg(max(Female))=0.0, avg(max(Free))=1.0, avg(sum(thumbsdown))=0.3333333333333333, avg(sum(friend))=3.0, avg(sum(song))=0.0, avg(sum(advert))=4.333333333333333, avg(max(Male))=1.0, avg(sum(settings))=1.0, avg(sum(error))=0.0, avg(sum(addtoplaylist))=1.6666666666666667, max(max(downgraded))=0, avg(max(Paid))=0.0, NumFeatures=DenseVector([0.3333, 3.6667, 4.3333, 1.0, 1.6667, 3.0, 0.3333, 0.0, 0.0, 1.0, 0.0, 0.0, 1.0]), ScaledFeatures=DenseVector([0.0485, 0.5336, 0.6306, 0.1455, 0.2425, 0.4366, 0.0485, 0.0, 0.0, 0.1455, 0.0, 0.0, 0.1455])),\n",
       " Row(userId='55', max(phase)=0, avg(sum(thumbsup))=1.5454545454545454, avg(sum(help))=0.36363636363636365, avg(max(Female))=0.0, avg(max(Free))=0.9090909090909091, avg(sum(thumbsdown))=0.45454545454545453, avg(sum(friend))=0.7272727272727273, avg(sum(song))=0.09090909090909091, avg(sum(advert))=2.6363636363636362, avg(max(Male))=1.0, avg(sum(settings))=0.09090909090909091, avg(sum(error))=0.09090909090909091, avg(sum(addtoplaylist))=1.1818181818181819, max(max(downgraded))=0, avg(max(Paid))=0.18181818181818182, NumFeatures=DenseVector([0.4545, 1.5455, 2.6364, 0.0909, 1.1818, 0.7273, 0.3636, 0.0909, 0.0909, 1.0, 0.0, 0.1818, 0.9091]), ScaledFeatures=DenseVector([0.1238, 0.4208, 0.7179, 0.0248, 0.3218, 0.198, 0.099, 0.0248, 0.0248, 0.2723, 0.0, 0.0495, 0.2475])),\n",
       " Row(userId='120', max(phase)=0, avg(sum(thumbsup))=5.785714285714286, avg(sum(help))=0.35714285714285715, avg(max(Female))=1.0, avg(max(Free))=0.0, avg(sum(thumbsdown))=0.9285714285714286, avg(sum(friend))=1.5714285714285714, avg(sum(song))=0.07142857142857142, avg(sum(advert))=0.07142857142857142, avg(max(Male))=0.0, avg(sum(settings))=0.6428571428571429, avg(sum(error))=0.07142857142857142, avg(sum(addtoplaylist))=3.142857142857143, max(max(downgraded))=0, avg(max(Paid))=1.0, NumFeatures=DenseVector([0.9286, 5.7857, 0.0714, 0.6429, 3.1429, 1.5714, 0.3571, 0.0714, 0.0714, 0.0, 1.0, 1.0, 0.0]), ScaledFeatures=DenseVector([0.1323, 0.8245, 0.0102, 0.0916, 0.4479, 0.2239, 0.0509, 0.0102, 0.0102, 0.0, 0.1425, 0.1425, 0.0])),\n",
       " Row(userId='127', max(phase)=0, avg(sum(thumbsup))=5.470588235294118, avg(sum(help))=0.7058823529411765, avg(max(Female))=1.0, avg(max(Free))=0.0, avg(sum(thumbsdown))=0.8823529411764706, avg(sum(friend))=1.5294117647058822, avg(sum(song))=0.11764705882352941, avg(sum(advert))=0.11764705882352941, avg(max(Male))=0.0, avg(sum(settings))=0.9411764705882353, avg(sum(error))=0.11764705882352941, avg(sum(addtoplaylist))=3.0588235294117645, max(max(downgraded))=0, avg(max(Paid))=1.0, NumFeatures=DenseVector([0.8824, 5.4706, 0.1176, 0.9412, 3.0588, 1.5294, 0.7059, 0.1176, 0.1176, 0.0, 1.0, 1.0, 0.0]), ScaledFeatures=DenseVector([0.1303, 0.8081, 0.0174, 0.139, 0.4518, 0.2259, 0.1043, 0.0174, 0.0174, 0.0, 0.1477, 0.1477, 0.0])),\n",
       " Row(userId='126', max(phase)=0, avg(sum(thumbsup))=4.5, avg(sum(help))=0.5, avg(max(Female))=0.0, avg(max(Free))=0.4666666666666667, avg(sum(thumbsdown))=0.7, avg(sum(friend))=1.1, avg(sum(song))=0.06666666666666667, avg(sum(advert))=1.1666666666666667, avg(max(Male))=1.0, avg(sum(settings))=0.5666666666666667, avg(sum(error))=0.06666666666666667, avg(sum(addtoplaylist))=2.4, max(max(downgraded))=0, avg(max(Paid))=0.5666666666666667, NumFeatures=DenseVector([0.7, 4.5, 1.1667, 0.5667, 2.4, 1.1, 0.5, 0.0667, 0.0667, 1.0, 0.0, 0.5667, 0.4667]), ScaledFeatures=DenseVector([0.1253, 0.8058, 0.2089, 0.1015, 0.4297, 0.197, 0.0895, 0.0119, 0.0119, 0.1791, 0.0, 0.1015, 0.0836]))]"
      ]
     },
     "execution_count": 34,
     "metadata": {},
     "output_type": "execute_result"
    }
   ],
   "source": [
    "# Check the results of normalization/feature creation\n",
    "ML_df.head(5)"
   ]
  },
  {
   "cell_type": "markdown",
   "metadata": {},
   "source": [
    "# Modeling\n",
    "Split the full dataset into train, test, and validation sets. Test out several of the machine learning methods you learned. Evaluate the accuracy of the various models, tuning parameters as necessary. Determine your winning model based on test accuracy and report results on the validation set. Since the churned users are a fairly small subset, I suggest using F1 score as the metric to optimize."
   ]
  },
  {
   "cell_type": "code",
   "execution_count": 35,
   "metadata": {},
   "outputs": [],
   "source": [
    "# Create dataframe with correct labels for easy model fitting\n",
    "data = ML_df.select(col('max(max(downgraded))').alias(\"label\"), col('ScaledFeatures').alias(\"features\"))"
   ]
  },
  {
   "cell_type": "code",
   "execution_count": 36,
   "metadata": {},
   "outputs": [],
   "source": [
    "# Split training/rest of the data\n",
    "train, test = data.randomSplit([0.7, 0.3])\n",
    "# Split non-training data between test/validation\n",
    "#test, validation = rest.randomSplit([0.5, 0.5])"
   ]
  },
  {
   "cell_type": "code",
   "execution_count": 50,
   "metadata": {},
   "outputs": [],
   "source": [
    "# Set up Model\n",
    "lr = LinearRegression(maxIter=10, regParam=0.0, fitIntercept=False, solver=\"normal\")"
   ]
  },
  {
   "cell_type": "code",
   "execution_count": 51,
   "metadata": {},
   "outputs": [],
   "source": [
    "# Fit model\n",
    "lrModel = lr.fit(train)"
   ]
  },
  {
   "cell_type": "code",
   "execution_count": 52,
   "metadata": {},
   "outputs": [
    {
     "data": {
      "text/plain": [
       "DenseVector([1.0933, 0.168, 0.4614, 0.3248, 0.1184, -0.4869, 0.6676, 2.4972, -3.2602, -5.4177, -5.4859, 5.2043, 4.8933])"
      ]
     },
     "execution_count": 52,
     "metadata": {},
     "output_type": "execute_result"
    }
   ],
   "source": [
    "# See influence of different variables\n",
    "lrModel.coefficients\n"
   ]
  },
  {
   "cell_type": "code",
   "execution_count": 53,
   "metadata": {},
   "outputs": [
    {
     "data": {
      "text/plain": [
       "0.5416801555580528"
      ]
     },
     "execution_count": 53,
     "metadata": {},
     "output_type": "execute_result"
    }
   ],
   "source": [
    "# See model R2\n",
    "lrModelSummary = lrModel.summary\n",
    "lrModelSummary.r2\n"
   ]
  },
  {
   "cell_type": "code",
   "execution_count": 41,
   "metadata": {},
   "outputs": [],
   "source": [
    "# Make predictions\n",
    "results = lrModel.transform(test)"
   ]
  },
  {
   "cell_type": "code",
   "execution_count": 54,
   "metadata": {},
   "outputs": [],
   "source": [
    "# Set up a Random Forest Classifier Model\n",
    "rf = RandomForestClassifier(labelCol=\"label\", featuresCol=\"features\", numTrees=10)"
   ]
  },
  {
   "cell_type": "code",
   "execution_count": 55,
   "metadata": {},
   "outputs": [],
   "source": [
    "# Fit the model to the training data\n",
    "rfModel = rf.fit(train)"
   ]
  },
  {
   "cell_type": "code",
   "execution_count": 56,
   "metadata": {},
   "outputs": [],
   "source": [
    "# Create predictions for the test data set\n",
    "predictions = rfModel.transform(test)"
   ]
  },
  {
   "cell_type": "code",
   "execution_count": 57,
   "metadata": {},
   "outputs": [],
   "source": [
    "# Evaluate the F1 score for the basic Random Forest Classifier\n",
    "evaluator = MulticlassClassificationEvaluator(labelCol=\"label\", predictionCol=\"prediction\", metricName=\"f1\")\n",
    "F1 = evaluator.evaluate(predictions)\n",
    "print(F1)"
   ]
  },
  {
   "cell_type": "code",
   "execution_count": 59,
   "metadata": {},
   "outputs": [],
   "source": [
    "# Set up a Suport Vector Machine Classifier\n",
    "sv = LinearSVC(labelCol=\"label\", featuresCol=\"features\")"
   ]
  },
  {
   "cell_type": "code",
   "execution_count": 60,
   "metadata": {},
   "outputs": [],
   "source": [
    "# Fit the model to the training data\n",
    "svModel = sv.fit(train)"
   ]
  },
  {
   "cell_type": "code",
   "execution_count": 64,
   "metadata": {},
   "outputs": [],
   "source": [
    "# Create predictions for the test data set\n",
    "prediction = svModel.transform(test)"
   ]
  },
  {
   "cell_type": "code",
   "execution_count": 65,
   "metadata": {},
   "outputs": [
    {
     "name": "stdout",
     "output_type": "stream",
     "text": [
      "0.6368192335910605\n"
     ]
    }
   ],
   "source": [
    "# Create predictions for the test data set\n",
    "F1 = evaluator.evaluate(prediction)\n",
    "print(F1)"
   ]
  },
  {
   "cell_type": "code",
   "execution_count": 66,
   "metadata": {},
   "outputs": [],
   "source": [
    "# Set up a Logistic Regression Classifier\n",
    "lr = LogisticRegression(labelCol=\"label\", featuresCol=\"features\")"
   ]
  },
  {
   "cell_type": "code",
   "execution_count": 67,
   "metadata": {},
   "outputs": [],
   "source": [
    "# Fit the model to the training data\n",
    "lrModel = lr.fit(train)"
   ]
  },
  {
   "cell_type": "code",
   "execution_count": 68,
   "metadata": {},
   "outputs": [],
   "source": [
    "# Create predictions for the test data set\n",
    "prediction = lrModel.transform(test)"
   ]
  },
  {
   "cell_type": "code",
   "execution_count": 69,
   "metadata": {},
   "outputs": [
    {
     "name": "stdout",
     "output_type": "stream",
     "text": [
      "0.6886713982540287\n"
     ]
    }
   ],
   "source": [
    "# Create predictions for the test data set\n",
    "F1 = evaluator.evaluate(prediction)\n",
    "print(F1)"
   ]
  },
  {
   "cell_type": "code",
   "execution_count": 70,
   "metadata": {},
   "outputs": [],
   "source": [
    "# Cross Validation setup for logistic regression\n",
    "paramGrid = ParamGridBuilder().addGrid(lr.fitIntercept, [True, False]).addGrid(lr.standardization, [True, False]).build()\n",
    "\n",
    "crossval = CrossValidator(estimator = lr, estimatorParamMaps = paramGrid, \n",
    "                          evaluator = MulticlassClassificationEvaluator(metricName=\"f1\"))"
   ]
  },
  {
   "cell_type": "code",
   "execution_count": 71,
   "metadata": {},
   "outputs": [],
   "source": [
    "# Train the cross validation model on the training data\n",
    "cvModel = crossval.fit(train)"
   ]
  },
  {
   "cell_type": "code",
   "execution_count": 72,
   "metadata": {},
   "outputs": [
    {
     "data": {
      "text/plain": [
       "[0.6420637251724449,\n",
       " 0.6420637251724449,\n",
       " 0.6558321231986786,\n",
       " 0.6558321231986786]"
      ]
     },
     "execution_count": 72,
     "metadata": {},
     "output_type": "execute_result"
    }
   ],
   "source": [
    "# Find average accuracy metrics for paramgrid results\n",
    "cvModel.avgMetrics\n"
   ]
  },
  {
   "cell_type": "markdown",
   "metadata": {},
   "source": [
    "# Final Steps\n",
    "Clean up your code, adding comments and renaming variables to make the code easier to read and maintain. Refer to the Spark Project Overview page and Data Scientist Capstone Project Rubric to make sure you are including all components of the capstone project and meet all expectations. Remember, this includes thorough documentation in a README file in a Github repository, as well as a web app or blog post."
   ]
  },
  {
   "cell_type": "code",
   "execution_count": null,
   "metadata": {},
   "outputs": [],
   "source": []
  }
 ],
 "metadata": {
  "kernelspec": {
   "display_name": "Python 3",
   "language": "python",
   "name": "python3"
  }
 },
 "nbformat": 4,
 "nbformat_minor": 2
}
